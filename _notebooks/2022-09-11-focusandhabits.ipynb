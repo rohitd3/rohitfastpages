{
 "cells": [
  {
   "cell_type": "markdown",
   "metadata": {},
   "source": [
    "# focus and habits\n",
    "> reduce stress 😀😀\n",
    "\n",
    "- toc: true \n",
    "- comments: true\n",
    "- badges: false\n",
    "- categories: [entry]"
   ]
  },
  {
   "cell_type": "markdown",
   "metadata": {},
   "source": [
    "# connection Psychology and the Good Life\n",
    "\n",
    "The idea of reducing stress and taking action to be mentally healthy is a common discussion I have heard throughout high school. In fact, I remember my AP Calculus BC teacher discussing the Psychology and the Good Life almost every morning in our class.\n",
    "\n",
    "# my ways to reduce stress\n",
    "\n",
    "I enjoy listening to music. After I complete my work or tasks I try to listen to music as short break before I get right back to work. I try to not worry about the amount of work or time I have, but it is still very stressful. I have found that a good way to keep myself accountable and manage my time better is to keep a list of the things I need to get done\n",
    "\n",
    "# my goals for this year\n",
    "\n",
    "As a senior year in high school, I want to be prepared for college. I want to make sure that I am building good study habits to make my college life easier.\n",
    "\n",
    "# CS group collaboration\n",
    "\n",
    "We are fun a group! My CS group has good synergy and we do our best to help each other out."
   ]
  }
 ],
 "metadata": {
  "kernelspec": {
   "display_name": "Python 3.8.10 64-bit",
   "language": "python",
   "name": "python3"
  },
  "language_info": {
   "name": "python",
   "version": "3.8.10"
  },
  "orig_nbformat": 4,
  "vscode": {
   "interpreter": {
    "hash": "916dbcbb3f70747c44a77c7bcd40155683ae19c65e1c03b4aa3499c5328201f1"
   }
  }
 },
 "nbformat": 4,
 "nbformat_minor": 2
}
