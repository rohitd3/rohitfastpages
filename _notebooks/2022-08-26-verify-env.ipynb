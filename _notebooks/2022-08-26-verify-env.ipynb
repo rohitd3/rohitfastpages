{
 "cells": [
  {
   "cell_type": "markdown",
   "id": "95d0e848",
   "metadata": {},
   "source": [
    "# Rohit's first entry!\n",
    "> dis da first post\n",
    "\n",
    "- toc: false \n",
    "- badges: true\n",
    "- comments: true\n",
    "- categories: [bash]\n",
    "- image: images/kurtis.png"
   ]
  },
  {
   "cell_type": "code",
   "execution_count": 3,
   "id": "21b4abf2",
   "metadata": {},
   "outputs": [
    {
     "name": "stdout",
     "output_type": "stream",
     "text": [
      "Checking for python3: install ok installed\n"
     ]
    }
   ],
   "source": [
    "REQUIRED_PKG=\"python3\"\n",
    "PKG_OK=$(dpkg-query -W --showformat='${Status}\\n' $REQUIRED_PKG|grep \"Package is installed!\")\n",
    "echo Checking for $REQUIRED_PKG: $PKG_OK\n",
    "if [ \"\" = \"$PKG_OK\" ]; then\n",
    "  echo \"No $REQUIRED_PKG. Setting up $REQUIRED_PKG.\"\n",
    "fi"
   ]
  },
  {
   "cell_type": "code",
   "execution_count": 5,
   "id": "4c7096fa",
   "metadata": {},
   "outputs": [
    {
     "name": "stdout",
     "output_type": "stream",
     "text": [
      "Desired=Unknown/Install/Remove/Purge/Hold\n",
      "| Status=Not/Inst/Conf-files/Unpacked/halF-conf/Half-inst/trig-aWait/Trig-pend\n",
      "|/ Err?=(none)/Reinst-required (Status,Err: uppercase=bad)\n",
      "||/ Name           Version        Architecture Description\n",
      "+++-==============-==============-============-=========================================================================\n",
      "ii  python3        3.8.2-0ubuntu2 amd64        interactive high-level object-oriented language (default python3 version)\n"
     ]
    }
   ],
   "source": [
    "dpkg-query -l python3"
   ]
  },
  {
   "cell_type": "code",
   "execution_count": 8,
   "id": "1672732c",
   "metadata": {},
   "outputs": [
    {
     "name": "stdout",
     "output_type": "stream",
     "text": [
      "ii  ca-certificates-\u001b[01;31m\u001b[Kjava\u001b[m\u001b[K                   20190405ubuntu1                   all          Common CA certificates (JKS keystore)\n",
      "ii  \u001b[01;31m\u001b[Kjava\u001b[m\u001b[K-common                            0.72                              all          Base package for Java runtimes\n",
      "ii  \u001b[01;31m\u001b[Kjava\u001b[m\u001b[Kscript-common                      11                                all          Base support for JavaScript library packages\n",
      "ii  libatk-wrapper-\u001b[01;31m\u001b[Kjava\u001b[m\u001b[K                    0.37.1-1                          all          ATK implementation for Java using JNI\n",
      "ii  libatk-wrapper-\u001b[01;31m\u001b[Kjava\u001b[m\u001b[K-jni:amd64          0.37.1-1                          amd64        ATK implementation for Java using JNI (JNI bindings)\n"
     ]
    }
   ],
   "source": [
    "dpkg -l | grep java"
   ]
  }
 ],
 "metadata": {
  "kernelspec": {
   "display_name": "Bash",
   "language": "bash",
   "name": "bash"
  },
  "language_info": {
   "codemirror_mode": "shell",
   "file_extension": ".sh",
   "mimetype": "text/x-sh",
   "name": "bash"
  }
 },
 "nbformat": 4,
 "nbformat_minor": 5
}
