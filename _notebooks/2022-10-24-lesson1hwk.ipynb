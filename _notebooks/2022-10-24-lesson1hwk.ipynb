{
 "cells": [
  {
   "cell_type": "markdown",
   "metadata": {},
   "source": [
    "# Lesson 1 Homework - Primitive Types\n",
    "\n",
    "- toc: false \n",
    "- comments: false\n",
    "- categories: [java]"
   ]
  },
  {
   "cell_type": "code",
   "execution_count": 2,
   "metadata": {},
   "outputs": [
    {
     "name": "stdout",
     "output_type": "stream",
     "text": [
      "Final is part of the test category? true or false\n",
      "Current grade:\n",
      "What percent of your grade is the tests category?\n",
      "Your current grade (in tests category)?\n",
      "Total points in tests category currently?\n",
      "Amount of points:\n",
      "The grade you want:\n",
      "You need a 32.0 on the final.\n"
     ]
    }
   ],
   "source": [
    "import java.util.*;\n",
    "\n",
    "\n",
    "public class gradecalc {\n",
    "    \n",
    "    public static void main(String[] args) {\n",
    "        Scanner sc = new Scanner(System.in);\n",
    "        System.out.println(\"Final is part of the test category? true or false\");\n",
    "        boolean finalIsTest = sc.nextBoolean();\n",
    "        \n",
    "        if (finalIsTest) {\n",
    "            System.out.println(\"Current grade:\");\n",
    "            double grade = sc.nextDouble();\n",
    "            \n",
    "            System.out.println(\"What percent of your grade is the tests category?\");\n",
    "            int testsPercent = sc.nextInt();\n",
    "            \n",
    "            System.out.println(\"Your current grade (in tests category)?\");\n",
    "            double testsGrade = sc.nextDouble();\n",
    "            \n",
    "            System.out.println(\"Total points in tests category currently?\");\n",
    "            int testsPoints = sc.nextInt();\n",
    "            \n",
    "            System.out.println(\"Amount of points:\");\n",
    "            int finalPoints = sc.nextInt();\n",
    "            \n",
    "            System.out.println(\"The grade you want:\");\n",
    "            double finalgrade = sc.nextDouble();\n",
    "            \n",
    "            double percentReq = finalgrade - (grade - testsGrade * testsPercent/100.0);\n",
    "            double testPointsNeeded = (percentReq/testsPercent) * (testsPoints + finalPoints);\n",
    "            double finalPointsNeeded = testPointsNeeded - testsPoints;\n",
    "            System.out.println(\"You need a \" + finalPointsNeeded + \" on the final.\");\n",
    "            \n",
    "        } else {\n",
    "            System.out.println(\"What is your current grade?\");\n",
    "            double grade = sc.nextDouble();\n",
    "            System.out.println(\"How much percent of your grade is the final?\");\n",
    "            int finalPercent = sc.nextInt();\n",
    "            System.out.println(\"What is your desired grade?\");\n",
    "            double target = sc.nextDouble();\n",
    "            \n",
    "            double percentReq = target - (grade/100.0)*(100.0-finalPercent);\n",
    "            double gradeNeeded = 100.0 * (percentReq/finalPercent);\n",
    "            System.out.println(\"You need a \" + gradeNeeded + \" on the test.\");\n",
    "        }\n",
    "    }\n",
    "}\n",
    "gradecalc.main(null);"
   ]
  },
  {
   "cell_type": "markdown",
   "metadata": {},
   "source": [
    "### Notes\n",
    "\n",
    "\n",
    "- Boolean, char, int, float, double are all primitive data types\n",
    "- String, Array, etc. are non-primitive data types\n",
    "- Learned to declare a variable that can be accessible and/or changed\n",
    "- Learned how to store data as variables\n",
    "- (=) is used to initialize variables or change its associated value\n",
    "- Operators are + - * / %\n",
    "- Compound operators are +=, -=, *=, /=, %=\n",
    "- Increment/decrement ++ or --\n"
   ]
  }
 ],
 "metadata": {
  "kernelspec": {
   "display_name": "Java",
   "language": "java",
   "name": "java"
  },
  "language_info": {
   "codemirror_mode": "java",
   "file_extension": ".jshell",
   "mimetype": "text/x-java-source",
   "name": "java",
   "pygments_lexer": "java",
   "version": "11.0.16+8-post-Ubuntu-0ubuntu120.04"
  },
  "orig_nbformat": 4
 },
 "nbformat": 4,
 "nbformat_minor": 2
}
