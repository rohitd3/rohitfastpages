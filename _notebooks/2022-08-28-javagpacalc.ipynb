{
 "cells": [
  {
   "cell_type": "markdown",
   "metadata": {},
   "source": [
    "# unit 1 java primitive\n",
    "> gpa calculator in java using primitives 🧮🧮\n",
    "\n",
    "- toc: false \n",
    "- badges: true\n",
    "- comments: true\n",
    "- categories: [java]\n",
    "- image: images/tuxnullgpa.png"
   ]
  },
  {
   "cell_type": "code",
   "execution_count": 1,
   "metadata": {},
   "outputs": [
    {
     "name": "stdout",
     "output_type": "stream",
     "text": [
      "Number of classes:\n",
      "I am taking 5 classes\n",
      "My class letter grades:\n",
      "\n",
      "A\n",
      "a\n",
      "C\n",
      "d\n",
      "A\n",
      "Your Overall GPA: 3.0\n"
     ]
    }
   ],
   "source": [
    "import java.util.Scanner;\n",
    "\n",
    "public class gpacalculator {\n",
    "    public static void main(String[] args) {\n",
    "        Scanner userInput = new Scanner(System.in);\n",
    "        int sum = 0; //intialize sum to 0, the gpa will be summed up in the for loop       \n",
    "        System.out.println(\"Number of classes:\");\n",
    "        int classes = userInput.nextInt();\n",
    "        System.out.println(\"I am taking \" + classes+ \" classes\");\n",
    "        System.out.println(\"My class letter grades:\"); // enter as uppercase or lowercase\n",
    "        for (int i = 0; i <= classes; i++) {\n",
    "            int gpa = 0; // intializing variable gpa as 0\n",
    "            String grade = userInput.nextLine();\n",
    "            System.out.println(grade);\n",
    "            if (grade.equals(\"A\") || grade.equals(\"a\")) {\n",
    "                gpa = 4;\n",
    "            } else if (grade.equals(\"B\") || grade.equals(\"b\")) {\n",
    "                gpa = 3;\n",
    "            } else if (grade.equals(\"C\") || grade.equals(\"c\")) {\n",
    "                gpa = 2;\n",
    "            } else if (grade.equals(\"D\") || grade.equals(\"d\")) {\n",
    "                gpa = 1;\n",
    "            } else if (grade.equals(\"F\") || grade.equals(\"f\")) {\n",
    "                gpa = 0;\n",
    "            }\n",
    "            sum = sum + gpa;\n",
    "        }\n",
    "\n",
    "        float gpaWhole = (float) sum/(float) classes;\n",
    "\n",
    "        System.out.println(\"Your Overall GPA: \" + gpaWhole);\n",
    "    }\n",
    "}\n",
    "\n",
    "gpacalculator.main(null);"
   ]
  }
 ],
 "metadata": {
  "kernelspec": {
   "display_name": "Java",
   "language": "java",
   "name": "java"
  },
  "language_info": {
   "codemirror_mode": "java",
   "file_extension": ".jshell",
   "mimetype": "text/x-java-source",
   "name": "java",
   "pygments_lexer": "java",
   "version": "11.0.16+8-post-Ubuntu-0ubuntu120.04"
  }
 },
 "nbformat": 4,
 "nbformat_minor": 2
}
