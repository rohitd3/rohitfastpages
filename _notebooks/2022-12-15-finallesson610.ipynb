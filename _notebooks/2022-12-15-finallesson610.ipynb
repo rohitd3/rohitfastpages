{
 "cells": [
  {
   "cell_type": "markdown",
   "metadata": {},
   "source": [
    "# Units 6-10 Review + Vocab List\n",
    "\n",
    "- toc: true \n",
    "- comments: false\n",
    "- categories: [java]"
   ]
  },
  {
   "attachments": {},
   "cell_type": "markdown",
   "metadata": {},
   "source": [
    "## Points\n",
    "\n",
    "| Unit | Score | Grading | Comments |\n",
    "| --- | --- | --- | --- |\n",
    "| Unit 6 | 0.9/1 | [Link](https://docs.google.com/spreadsheets/d/1TxKpL7eNeWgucA9nHNBuJ54PQGQcHuBUn-bU38verNk/edit#gid=0) | Met all the requirements, showed participation |\n",
    "| Unit 7 | 0.97/1 | [Link](https://docs.google.com/spreadsheets/d/1Gb_jEROiytMYq9zlNA9iY1Vswe4h3heZJ86h1_CU-bs/edit#gid=0) | Hacks are done with key learnings but quizizz scored 90% |\n",
    "| Unit 8 | 1/1 | [Link](https://akhilnandhakumar.github.io/fastpages-team-coders/2022/12/14/grading.html) | N/A |\n",
    "| Unit 9 | Student Lesson Presentation | [Link](https://ad1616.github.io/ADfastpages/cb/2022/12/08/InheritanceLesson.html#Grades) | Started by rotating through dialog on Cars.    Sahil shared Car class.  Talked about super keyword and had example to show constructor calling super and then assigning custom attribute.  Hack was done immediately with bottle/water bottle.  Rohit spoke of @Override examples all with println statements.   Nathan spoke on super and calling horn method.   Kurtis talked about inheritance hierarchy.  Nathan spoke again about defining methods with different amount of parameters.  Sahil introduced another hack.  The activity hacks are well formed and seem well thought out for short examples in classroom. Ritvik finished with the Object superclass and toString method. - Mortensen | \n",
    "| Unit 10 | 0.95/1|[Link](https://hetvit27.github.io/hetvitrivedi/collegeboard/2022/12/06/Recursion.html)| missed one MC question + good implementation of recursion in code |\n",
    "| TOTAL SCORE | 3.82/4| | |"
   ]
  },
  {
   "attachments": {},
   "cell_type": "markdown",
   "metadata": {},
   "source": [
    "## Unit 6: Arrays\n",
    "\n",
    "[Jupyter Notebook Hacks](https://rohitd3.github.io/rohitfastpages/java/2022/11/01/lesson6hwk.html)\n",
    "\n",
    "- array is a type of data structure which contains a collection of data\n",
    "- Making Arrays: using constructors or using pre-initialized arrays\n",
    "Access elements through arrayName[index]\n",
    "- How to declare an array, ex: \n",
    "``int[] array dom  = new int [9]; (saying array length) or int[] array dom = {1,2,3,4,5}``\n"
   ]
  },
  {
   "attachments": {},
   "cell_type": "markdown",
   "metadata": {},
   "source": [
    "### Unit 6 Code Examples"
   ]
  },
  {
   "cell_type": "code",
   "execution_count": 1,
   "metadata": {},
   "outputs": [
    {
     "name": "stdout",
     "output_type": "stream",
     "text": [
      "M&M\n",
      "Reeses\n",
      "Kisses\n",
      "Drops\n"
     ]
    }
   ],
   "source": [
    "String[] candy = {\"M&M\", \"Reeses\", \"Kisses\", \"Drops\"};\n",
    "for (int i = 0; i < candy.length; i++) {\n",
    "  System.out.println(candy[i]);\n",
    "}"
   ]
  },
  {
   "cell_type": "code",
   "execution_count": 8,
   "metadata": {},
   "outputs": [
    {
     "name": "stdout",
     "output_type": "stream",
     "text": [
      "1\n",
      "2\n",
      "3\n",
      "4\n",
      "5\n"
     ]
    }
   ],
   "source": [
    "public class ArrayExample {\n",
    "    public static void main(String[] args) {\n",
    "        int[] numbers = {1,2,3,4,5};\n",
    "        int index = 0;\n",
    "        while (index < numbers.length) {\n",
    "            System.out.println(numbers[index]);\n",
    "            index++;\n",
    "        }\n",
    "\n",
    "    }\n",
    "}\n",
    "ArrayExample.main(null);"
   ]
  },
  {
   "attachments": {},
   "cell_type": "markdown",
   "metadata": {},
   "source": [
    "## Unit 7 Array List\n",
    "\n",
    "[Fastpages Blog](https://rohitd3.github.io/rohitfastpages/java/2022/12/14/lesson7hwk.html)\n",
    "\n",
    "\n",
    "Methods to know:\n",
    "\n",
    "- size(): # of elements in the list\n",
    "- add(obj): adds an element at the end\n",
    "- add(index, object): adds element at specific index\n",
    "- remove(index): removes element from specific index\n",
    "- set(index, object): replaces element at index with new object\n",
    "- get(index): returns element at inde"
   ]
  },
  {
   "cell_type": "markdown",
   "metadata": {},
   "source": [
    "## Unit 8\n",
    "\n",
    "[Fastpages Blog](https://rohitd3.github.io/rohitfastpages/java/2022/12/06/lesson8hwk.html)\n",
    "\n",
    "- Array: a data structure used to implement a collection (list) of primitive or object reference data\n",
    "- Element: a single value in the array\n",
    "- Index: the position of the element in the array (starts from 0)\n",
    "- Array Length = the number of elements in the array\n",
    "- public: so can be accessed in any class\n",
    "- Access and update elements: arrayname[r][c]"
   ]
  },
  {
   "cell_type": "markdown",
   "metadata": {},
   "source": [
    "## Unit 9\n",
    "\n",
    "[Link to our lesson](https://rohitd3.github.io/rohitfastpages/cb/2022/12/08/InheritanceLesson.html)\n",
    "\n",
    "\n",
    "- Inheritance, order in which attributes, methods and strings called\n",
    "- constructor - where attributes are defined\n",
    "- overriding - subclass or child class can get overridden with another method in subclass\n",
    "- polymorphism - running multiple things with same name\n",
    "- super keyword, use superclass in subclass\n"
   ]
  },
  {
   "cell_type": "markdown",
   "metadata": {},
   "source": [
    "## Unit 10\n",
    "\n",
    "[Fastpages Blog](https://rohitd3.github.io/rohitfastpages/java/2022/12/13/lesson10hwk.html)\n",
    "\n",
    "Learnings\n",
    "- Can be used in situations where loops are used\n",
    "- Must call itself and have a base case\n",
    "\n",
    "Recursion\n",
    "- Method that calls itself. Must have two parts: a base case and a recursive call.\n"
   ]
  },
  {
   "cell_type": "code",
   "execution_count": 1,
   "metadata": {},
   "outputs": [
    {
     "name": "stdout",
     "output_type": "stream",
     "text": [
      "24\n",
      "3628800\n"
     ]
    }
   ],
   "source": [
    "// O(n) time since it must go through n iterations to calculate factorial\n",
    "\n",
    "// factorial calculation\n",
    "public int factorial (int n) {\n",
    "    if (n == 0 || n == 1) {\n",
    "      return 1;\n",
    "    }\n",
    "    return n * factorial(n-1);\n",
    "  }\n",
    "  \n",
    "  System.out.println(factorial(4));\n",
    "  System.out.println(factorial(10));"
   ]
  }
 ],
 "metadata": {
  "kernelspec": {
   "display_name": "Java",
   "language": "java",
   "name": "java"
  },
  "language_info": {
   "codemirror_mode": "java",
   "file_extension": ".jshell",
   "mimetype": "text/x-java-source",
   "name": "java",
   "pygments_lexer": "java",
   "version": "17.0.5+8-Ubuntu-2ubuntu120.04"
  },
  "orig_nbformat": 4
 },
 "nbformat": 4,
 "nbformat_minor": 2
}
