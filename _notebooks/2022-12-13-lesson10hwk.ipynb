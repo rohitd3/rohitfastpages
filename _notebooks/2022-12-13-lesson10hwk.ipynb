{
 "cells": [
  {
   "cell_type": "markdown",
   "metadata": {},
   "source": [
    "# Lesson 10\n",
    "\n",
    "- toc: true \n",
    "- comments: false\n",
    "- categories: [java]"
   ]
  },
  {
   "cell_type": "markdown",
   "metadata": {},
   "source": [
    "## Notes for unit\n",
    "\n",
    "Learnings\n",
    "- Can be used in situations where loops are used\n",
    "- Must call itself and have a base case\n",
    "\n",
    "Recursion\n",
    "- Method that calls itself. Must have two parts: a base case and a recursive call.\n",
    "\n",
    "Big O Notation\n",
    "- Describes time complexity for code to run\n",
    "\n",
    "\n",
    "Binary Search\n",
    "- data to be in sorted order to use.\n",
    "- algorithm coninuously halves the data until the wanted value is found\n",
    "- efficient compared to linear search\n"
   ]
  },
  {
   "cell_type": "markdown",
   "metadata": {},
   "source": [
    "## Homework\n",
    "\n",
    "- Kahoot complete\n",
    "- Google form - one question missed"
   ]
  }
 ],
 "metadata": {
  "kernelspec": {
   "display_name": "Java",
   "language": "java",
   "name": "java"
  },
  "language_info": {
   "name": "java",
   "version": "3.8.10"
  },
  "orig_nbformat": 4,
  "vscode": {
   "interpreter": {
    "hash": "916dbcbb3f70747c44a77c7bcd40155683ae19c65e1c03b4aa3499c5328201f1"
   }
  }
 },
 "nbformat": 4,
 "nbformat_minor": 2
}
