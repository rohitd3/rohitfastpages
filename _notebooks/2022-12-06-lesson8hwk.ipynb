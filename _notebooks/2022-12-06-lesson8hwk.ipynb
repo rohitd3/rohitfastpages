{
 "cells": [
  {
   "cell_type": "code",
   "execution_count": null,
   "metadata": {},
   "outputs": [],
   "source": [
    "# Lesson 8 - 2D Array\n",
    "\n",
    "- toc: true \n",
    "- comments: false\n",
    "- categories: [java]"
   ]
  },
  {
   "cell_type": "markdown",
   "metadata": {},
   "source": [
    "### Vocabulary\n",
    "\n",
    "\n",
    "- Array = a data structure used to implement a collection (list) of primitive or object reference data\n",
    "- Element = a single value in the array\n",
    "- Index = the position of the element in the array (starts from 0)\n",
    "- Array Length = the number of elements in the array\n",
    "  - Is public, so can be accessed in any class\n",
    "  - Is also final, so can’t change it after array has been created\n"
   ]
  },
  {
   "cell_type": "markdown",
   "metadata": {},
   "source": [
    "### Hack 1: Access the last element of the 2D Array list:"
   ]
  },
  {
   "cell_type": "code",
   "execution_count": 8,
   "metadata": {},
   "outputs": [
    {
     "name": "stdout",
     "output_type": "stream",
     "text": [
      "last element: i\n"
     ]
    }
   ],
   "source": [
    "public class Test {\n",
    "\n",
    "    public static void main(String[] args) {\n",
    " \n",
    "      String[][] arr = {\n",
    "         { \"a\", \"f\", \"g\" },\n",
    "         { \"b\", \"e\", \"h\" },\n",
    "         { \"c\", \"d\", \"i\" }\n",
    "      };\n",
    " \n",
    "      // Print the last element in the array!\n",
    "      System.out.println(\"last element: \"+ arr[2][2]);\n",
    "       \n",
    "    }\n",
    " \n",
    "\n",
    "\n",
    " }\n",
    " Test.main(null);  \n"
   ]
  },
  {
   "cell_type": "markdown",
   "metadata": {},
   "source": [
    "### Hack 2: Changing a Value:"
   ]
  },
  {
   "cell_type": "code",
   "execution_count": 17,
   "metadata": {},
   "outputs": [
    {
     "name": "stdout",
     "output_type": "stream",
     "text": [
      "Change Austin to Athens and print!\n",
      "Austin\n",
      "Athens\n"
     ]
    }
   ],
   "source": [
    "public class Test {\n",
    "\n",
    "    public static void main(String[] args) {\n",
    " \n",
    "      String[][] arr = {\n",
    "         { \"Atlanta\", \"Baltimore\", \"Chicago\" },\n",
    "         { \"Australia\", \"Boston\", \"Cincinnati\" },\n",
    "         { \"Austin\", \"Beaumont\", \"Columbus\" }\n",
    "      };\n",
    " \n",
    "       // Change Austin to Athens and print!\n",
    "       System.out.println(\"Change Austin to Athens and print!\");\n",
    "       System.out.println(arr[arr.length - 1][arr[0].length - 3]);\n",
    "       \n",
    "       arr[arr.length - 1][arr[0].length - 3] = \"Athens\";\n",
    "       System.out.println(arr[arr.length - 1][arr[0].length - 3]);\n",
    "\n",
    "\n",
    "\n",
    "       \n",
    "    }\n",
    " \n",
    " }\n",
    " Test.main(null);"
   ]
  },
  {
   "cell_type": "markdown",
   "metadata": {},
   "source": [
    "### Hack 3: Unknown Dimensions:"
   ]
  },
  {
   "cell_type": "code",
   "execution_count": 20,
   "metadata": {},
   "outputs": [
    {
     "name": "stdout",
     "output_type": "stream",
     "text": [
      "Chicago Baltimore Atlanta\n",
      "Cincinnati Boston Australia\n",
      "Columbus Beaumont Austin\n"
     ]
    }
   ],
   "source": [
    "\n",
    "\n",
    "public class Test {\n",
    "\n",
    "    public static void main(String[] args) {\n",
    " \n",
    "       String[][] arr = {\n",
    "          { \"Atlanta\", \"Baltimore\", \"Chicago\" },\n",
    "          { \"Australia\", \"Boston\", \"Cincinnati\" },\n",
    "          { \"Austin\", \"Beaumont\", \"Columbus\" }\n",
    "       };\n",
    " \n",
    "       // Print out the array without using numerical values!\n",
    "       System.out.println(arr[arr.length - 3][arr[0].length - 1] + \" \" + arr[arr.length - 3][arr[0].length - 2] + \" \" + arr[arr.length - 3][arr[0].length - 3]);\n",
    "       System.out.println(arr[arr.length - 2][arr[0].length - 1] + \" \" + arr[arr.length - 2][arr[0].length - 2] + \" \" + arr[arr.length - 2][arr[0].length - 3]);\n",
    "       System.out.println(arr[arr.length - 1][arr[0].length - 1] + \" \" + arr[arr.length - 1][arr[0].length - 2] + \" \" + arr[arr.length - 1][arr[0].length - 3]);\n",
    "\n",
    "       \n",
    "    }\n",
    " \n",
    " }\n",
    " Test.main(null);\n",
    " \n",
    " \n",
    " \n",
    "      \n",
    " "
   ]
  },
  {
   "cell_type": "markdown",
   "metadata": {},
   "source": [
    "### Hack 4: Finding the Min/Max Value:"
   ]
  },
  {
   "cell_type": "code",
   "execution_count": 22,
   "metadata": {},
   "outputs": [
    {
     "name": "stdout",
     "output_type": "stream",
     "text": [
      "Use nested for loops to find the longest or shortest string!\n"
     ]
    }
   ],
   "source": [
    "\n",
    "public class Test {\n",
    "\n",
    "    public static void main(String[] args) {\n",
    "  \n",
    "        String[][] arr = {\n",
    "            { \"Atlanta\", \"Baltimore\", \"Chicago\" },\n",
    "            { \"Australia\", \"Boston\", \"Cincinnati\" },\n",
    "            { \"Austin\", \"Beaumont\", \"Columbus\" }\n",
    "        };\n",
    "\n",
    "        String longest = arr[0][0];\n",
    "\n",
    "        // Use nested for loops to find the longest or shortest string!\n",
    "        System.out.println(\"Use nested for loops to find the longest or shortest string!\");\n",
    "        \n",
    "    }\n",
    " \n",
    " }\n",
    "Test.main(null);"
   ]
  }
 ],
 "metadata": {
  "kernelspec": {
   "display_name": "Java",
   "language": "java",
   "name": "java"
  },
  "language_info": {
   "codemirror_mode": "java",
   "file_extension": ".jshell",
   "mimetype": "text/x-java-source",
   "name": "java",
   "pygments_lexer": "java",
   "version": "17.0.5+8-Ubuntu-2ubuntu120.04"
  },
  "orig_nbformat": 4,
  "vscode": {
   "interpreter": {
    "hash": "916dbcbb3f70747c44a77c7bcd40155683ae19c65e1c03b4aa3499c5328201f1"
   }
  }
 },
 "nbformat": 4,
 "nbformat_minor": 2
}
