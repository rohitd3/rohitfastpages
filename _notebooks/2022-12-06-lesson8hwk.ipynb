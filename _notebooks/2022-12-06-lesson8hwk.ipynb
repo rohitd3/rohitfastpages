{
 "cells": [
  {
   "cell_type": "markdown",
   "metadata": {},
   "source": [
    "# Lesson 8 - 2D Array\n",
    "\n",
    "- toc: true \n",
    "- comments: false\n",
    "- categories: [java]"
   ]
  },
  {
   "attachments": {},
   "cell_type": "markdown",
   "metadata": {},
   "source": [
    "### Vocabulary\n",
    "\n",
    "\n",
    "- Array = a data structure used to implement a collection (list) of primitive or object reference data\n",
    "- Element = a single value in the array\n",
    "- Index = the position of the element in the array (starts from 0)\n",
    "- Array Length = the number of elements in the array\n",
    "  - Is public, so can be accessed in any class\n",
    "  - Is also final, so can’t change it after array has been created\n",
    "\n",
    "  \n",
    "- A 2D array is an array of arrays, and can be a better way to store data\n",
    "- Declaring a 2D array: ``DataType[][] nameOf2DArray``\n"
   ]
  },
  {
   "cell_type": "markdown",
   "metadata": {},
   "source": [
    "### Hack 1: Access the last element of the 2D Array list:"
   ]
  },
  {
   "cell_type": "code",
   "execution_count": 7,
   "metadata": {},
   "outputs": [
    {
     "name": "stdout",
     "output_type": "stream",
     "text": [
      "last element: i\n"
     ]
    }
   ],
   "source": [
    "public class Test {\n",
    "\n",
    "    public static void main(String[] args) {\n",
    " \n",
    "      String[][] arr = {\n",
    "         { \"a\", \"f\", \"g\" },\n",
    "         { \"b\", \"e\", \"h\" },\n",
    "         { \"c\", \"d\", \"i\" }\n",
    "      };\n",
    " \n",
    "      // Print the last element in the array!\n",
    "      System.out.println(\"last element: \"+ arr[2][2]);\n",
    "       \n",
    "    }\n",
    " \n",
    "\n",
    "\n",
    " }\n",
    " Test.main(null);  \n"
   ]
  },
  {
   "attachments": {},
   "cell_type": "markdown",
   "metadata": {},
   "source": [
    "Updating an element: ``list[r][c] = value;``"
   ]
  },
  {
   "cell_type": "markdown",
   "metadata": {},
   "source": [
    "### Hack 2: Changing a Value:"
   ]
  },
  {
   "cell_type": "code",
   "execution_count": 6,
   "metadata": {},
   "outputs": [
    {
     "name": "stdout",
     "output_type": "stream",
     "text": [
      "Change Austin to Athens and print!\n",
      "Austin\n",
      "Athens\n",
      "Atlanta Baltimore Chicago  \n",
      "Australia Boston Cincinnati  \n",
      "Athens Beaumont Columbus  \n"
     ]
    }
   ],
   "source": [
    "public class Test {\n",
    "\n",
    "    public static void main(String[] args) {\n",
    " \n",
    "      String[][] arr = {\n",
    "         { \"Atlanta\", \"Baltimore\", \"Chicago\" },\n",
    "         { \"Australia\", \"Boston\", \"Cincinnati\" },\n",
    "         { \"Austin\", \"Beaumont\", \"Columbus\" }\n",
    "      };\n",
    " \n",
    "       // Change Austin to Athens and print!\n",
    "       System.out.println(\"Change Austin to Athens and print!\");\n",
    "       System.out.println(arr[arr.length - 1][arr[0].length - 3]);\n",
    "       \n",
    "       arr[arr.length - 1][arr[0].length - 3] = \"Athens\";\n",
    "       System.out.println(arr[arr.length - 1][arr[0].length - 3]);\n",
    "\n",
    "\n",
    "       for(int row = 0; row < arr.length; row++) {\n",
    "         for(int column = 0; column < arr.length; column++) {\n",
    "            System.out.print(arr[row][column] + \" \");\n",
    "         }\n",
    "         System.out.println(\" \");\n",
    "      }\n",
    "    }\n",
    " \n",
    " }\n",
    " Test.main(null);"
   ]
  },
  {
   "attachments": {},
   "cell_type": "markdown",
   "metadata": {},
   "source": [
    "You can use Nested Loops to traverse 2D Arrays"
   ]
  },
  {
   "cell_type": "markdown",
   "metadata": {},
   "source": [
    "### Hack 3: Unknown Dimensions:"
   ]
  },
  {
   "cell_type": "code",
   "execution_count": 3,
   "metadata": {},
   "outputs": [
    {
     "name": "stdout",
     "output_type": "stream",
     "text": [
      "Boston\n"
     ]
    }
   ],
   "source": [
    "public class Test {\n",
    "\n",
    "   public static void main(String[] args) {\n",
    " \n",
    "       String[][] arr = {\n",
    "           { \"Atlanta\", \"Baltimore\", \"Chicago\" },\n",
    "           { \"Australia\", \"Boston\", \"Cincinnati\" },\n",
    "           { \"Austin\", \"Beaumont\", \"Columbus\" }\n",
    "       };\n",
    "\n",
    "       String match = \"\";\n",
    "       String name = \"Boston\";\n",
    "       for (String[] row : arr) {\n",
    "           for (String item : row) {\n",
    "               if (item.equals(name)) {\n",
    "                   match = name;\n",
    "               }\n",
    "           }\n",
    "       }\n",
    "\n",
    "       if (match.length() == 0) {\n",
    "           System.out.println(\"No Match!\");\n",
    "       } else {\n",
    "           System.out.println(name);\n",
    "       }\n",
    "       \n",
    "   }\n",
    "\n",
    "}\n",
    "Test.main(null);"
   ]
  },
  {
   "cell_type": "markdown",
   "metadata": {},
   "source": [
    "### Hack 4: Finding the Min/Max Value:"
   ]
  },
  {
   "cell_type": "code",
   "execution_count": 9,
   "metadata": {},
   "outputs": [
    {
     "name": "stdout",
     "output_type": "stream",
     "text": [
      "Use nested for loops to find the longest or shortest string!\n",
      "Longest String: Cincinnati\n",
      "Shortest String: Boston\n"
     ]
    }
   ],
   "source": [
    "public class Test {\n",
    "\n",
    "    public static void main(String[] args) {\n",
    "  \n",
    "        String[][] arr = {\n",
    "            { \"Atlanta\", \"Baltimore\", \"Chicago\" },\n",
    "            { \"Australia\", \"Boston\", \"Cincinnati\" },\n",
    "            { \"Austin\", \"Beaumont\", \"Columbus\" }\n",
    "        };\n",
    "\n",
    "        String longest = arr[0][0];\n",
    "        String shortest = arr[0][0];\n",
    "\n",
    "        // Use nested for loops to find the longest or shortest string!\n",
    "        System.out.println(\"Use nested for loops to find the longest or shortest string!\");\n",
    "        \n",
    "        for(int row =0; row < arr.length; row++) {\n",
    "            for(int col=0; col < arr[row].length; col++) {\n",
    "                if (arr[row][col].length() > longest.length()) {\n",
    "                    longest = arr[row][col];\n",
    "                }\n",
    "            }\n",
    "        }\n",
    "        \n",
    "        System.out.println(\"Longest String: \" + longest);\n",
    "        \n",
    "        for(int row =0; row < arr.length; row++) {\n",
    "            for(int col=0; col < arr[row].length; col++) {\n",
    "                if (arr[row][col].length() < shortest.length()) {\n",
    "                    shortest = arr[row][col];\n",
    "                }\n",
    "            }\n",
    "        }\n",
    "        \n",
    "        System.out.println(\"Shortest String: \" + shortest);\n",
    "        \n",
    "    }\n",
    " \n",
    " }\n",
    "Test.main(null);"
   ]
  },
  {
   "attachments": {},
   "cell_type": "markdown",
   "metadata": {},
   "source": [
    "## Extra submission"
   ]
  },
  {
   "cell_type": "code",
   "execution_count": 1,
   "metadata": {},
   "outputs": [
    {
     "name": "stdout",
     "output_type": "stream",
     "text": [
      "                    \n",
      "                   **\n",
      "                  ****\n",
      "                 ******\n",
      "                ********\n",
      "               **********\n",
      "              ************\n",
      "             **************\n",
      "            ****************\n",
      "           ******************\n",
      "          ********************\n",
      "                   **\n",
      "                   **\n"
     ]
    }
   ],
   "source": [
    "int height = 20;\n",
    "\n",
    "String[][] arr = new String[height][height];\n",
    "\n",
    "for (int col=0; col<=height; col+=2) {\n",
    "    System.out.println(\" \".repeat(height - col/2) +\"*\".repeat(col));\n",
    "}\n",
    "\n",
    "System.out.println(\" \".repeat(height - 1) + \"*\".repeat(2));\n",
    "System.out.println(\" \".repeat(height - 1) + \"*\".repeat(2));"
   ]
  }
 ],
 "metadata": {
  "kernelspec": {
   "display_name": "Java",
   "language": "java",
   "name": "java"
  },
  "language_info": {
   "codemirror_mode": "java",
   "file_extension": ".jshell",
   "mimetype": "text/x-java-source",
   "name": "java",
   "pygments_lexer": "java",
   "version": "17.0.5+8-Ubuntu-2ubuntu120.04"
  },
  "orig_nbformat": 4,
  "vscode": {
   "interpreter": {
    "hash": "916dbcbb3f70747c44a77c7bcd40155683ae19c65e1c03b4aa3499c5328201f1"
   }
  }
 },
 "nbformat": 4,
 "nbformat_minor": 2
}
