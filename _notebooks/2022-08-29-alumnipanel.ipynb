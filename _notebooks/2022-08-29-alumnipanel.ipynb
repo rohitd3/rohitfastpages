{
 "cells": [
  {
   "cell_type": "markdown",
   "metadata": {},
   "source": [
    "# alumni panel\n",
    "> 🙃🗣️\n",
    "\n",
    "- toc: false \n",
    "- comments: true\n",
    "- badges: false\n",
    "- categories: [entry]\n",
    "- image: images/avojeffrohit.png"
   ]
  },
  {
   "cell_type": "markdown",
   "metadata": {},
   "source": [
    "##  insight and takeaway\n",
    "\n",
    "&nbsp;&nbsp;&nbsp;&nbsp;&nbsp;In today's alum panel, I related to Nitya, Allison, and Mabel the most. The three alumni shared a common relationship with computer science at the beginning of their introduction to the field. They all found computer science challenging and did not like it. However, through taking the AP Computer Science Principles class, they realized the value of computer science and how, in the present day, it is required for almost any field. Alison, who will be entering UCLA this year with a major in cognitive science and a minor in statistics, said that looking at the course, she saw that she needed to know how to program in the language R. She continued to state that probably most people that will be taking the statistics course do not realize that they need to know how to program if they want to succeed in the class.\n",
    "\n",
    "&nbsp;&nbsp;&nbsp;&nbsp;&nbsp;Mabel and Nitya both talked about how they liked structured classes and set instructions. I also am a person who wants an organized structure. I took Computer Science Principles last year, and the idea of being free to create any idea of ours was very new to me. Over time, as I gained experience with Ms. Naidu and Mr. Mortensen, I understood how to use the freedom we were given and became interested in computer science. Similar to my experience, Nitya, Allison, and Mabel shared how they began to enjoy computer science and understand its value. Now in college, they are pursuing their majors, to which computer science is vital.\n",
    "    \n",
    "&nbsp;&nbsp;&nbsp;&nbsp;&nbsp;A takeaway from today was when I talked to Colin at the end of the panel, where he explained that in any engineering major you choose, being proficient in computer science will make your life easier, and you will be able to perform better in college classes. As a senior who is concerned with what major to choose for college, I will always need to keep computer science in my toolbox and be able to apply it.\n",
    "\n",
    "\n",
    "### Me, Jeffrey Lee, and Anthony Vo after the alumni panel\n",
    "\n",
    "![avojeffrohit](https://user-images.githubusercontent.com/44128572/187339887-13055a42-3b79-4fdb-8eac-86226ee9d853.png)\n",
    "![override](https://user-images.githubusercontent.com/44128572/207130820-3838898e-0378-4843-b46a-1b544d4a3737.png)\n"
   ]
  }
 ],
 "metadata": {
  "kernelspec": {
   "display_name": "Python 3.8.10 64-bit",
   "language": "python",
   "name": "python3"
  },
  "language_info": {
   "name": "python",
   "version": "3.8.10"
  },
  "orig_nbformat": 4,
  "vscode": {
   "interpreter": {
    "hash": "916dbcbb3f70747c44a77c7bcd40155683ae19c65e1c03b4aa3499c5328201f1"
   }
  }
 },
 "nbformat": 4,
 "nbformat_minor": 2
}
