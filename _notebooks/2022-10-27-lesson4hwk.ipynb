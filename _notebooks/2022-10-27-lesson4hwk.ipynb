{
 "cells": [
  {
   "cell_type": "markdown",
   "metadata": {},
   "source": [
    "# Lesson 4 Homework -  Iteration\n",
    "\n",
    "\n",
    "- toc: true \n",
    "- comments: false\n",
    "- categories: [java]"
   ]
  },
  {
   "cell_type": "markdown",
   "metadata": {},
   "source": [
    "## Hack 1"
   ]
  },
  {
   "cell_type": "code",
   "execution_count": 1,
   "metadata": {},
   "outputs": [
    {
     "name": "stdout",
     "output_type": "stream",
     "text": [
      "5.0\n"
     ]
    }
   ],
   "source": [
    "public class WhileLoops {\n",
    "    public double money = 0;\n",
    "    public double profit = 5450000;\n",
    "    public double goal = 30000000;\n",
    "    public double years = 0;\n",
    "\n",
    "    public void Calc() {\n",
    "        while (this.money < this.goal) {\n",
    "            this.money = this.money + this.profit;\n",
    "            this.profit = this.profit * 1.05;\n",
    "            this.years = this.years + 1;\n",
    "        }\n",
    "        System.out.println(this.years);\n",
    "    }\n",
    "\n",
    "    public static void main(String[] args) {\n",
    "        WhileLoops obj = new WhileLoops();\n",
    "        obj.Calc();\n",
    "    }\n",
    "}\n",
    "\n",
    "WhileLoops.main(null);"
   ]
  },
  {
   "cell_type": "markdown",
   "metadata": {},
   "source": [
    "## Hack 2"
   ]
  },
  {
   "cell_type": "code",
   "execution_count": 2,
   "metadata": {},
   "outputs": [
    {
     "name": "stdout",
     "output_type": "stream",
     "text": [
      "Numbers 10-15\n",
      "10\n",
      "11\n",
      "12\n",
      "13\n",
      "14\n",
      "15\n",
      "Convert temperature\n",
      "0c -> 273.15k\n",
      "10c -> 283.15k\n",
      "20c -> 293.15k\n",
      "30c -> 303.15k\n",
      "40c -> 313.15k\n",
      "50c -> 323.15k\n",
      "60c -> 333.15k\n",
      "70c -> 343.15k\n",
      "80c -> 353.15k\n",
      "90c -> 363.15k\n",
      "100c -> 373.15k\n"
     ]
    }
   ],
   "source": [
    "public class ForLoops {\n",
    "    public double temp = 0;\n",
    "    public void Calc() {\n",
    "        System.out.println(\"Numbers 10-15\");\n",
    "        for (int x = 10; x <= 15; x++) {\n",
    "            System.out.println(x);\n",
    "        }\n",
    "        \n",
    "        System.out.println(\"Convert temperature\");\n",
    "        for (int x = 0; x<=100; x+=10) {\n",
    "            temp = 0;\n",
    "            temp = x + 273.15;\n",
    "            System.out.println(x + \"c -> \" + temp + \"k\");\n",
    "        }\n",
    "    }\n",
    "\n",
    "    public static void main(String[] args) {\n",
    "        ForLoops obj = new ForLoops();\n",
    "        obj.Calc();\n",
    "\n",
    "    }\n",
    "}\n",
    "\n",
    "ForLoops.main(null);"
   ]
  },
  {
   "cell_type": "markdown",
   "metadata": {},
   "source": [
    "## Caesar Cipher Homework"
   ]
  },
  {
   "cell_type": "code",
   "execution_count": 3,
   "metadata": {},
   "outputs": [
    {
     "name": "stdout",
     "output_type": "stream",
     "text": [
      "Nice job!\n",
      "code code code\n",
      "supercalifragilisticexpialidocious\n"
     ]
    }
   ],
   "source": [
    "public class CaesarCipher {\n",
    "\n",
    "\n",
    "    public String[] letters = {\"a\", \"b\", \"c\", \"d\", \"e\", \"f\", \"g\", \"h\", \"i\", \"j\", \"k\", \"l\", \"m\", \"n\", \"o\", \"p\", \"q\", \"r\", \"s\", \"t\", \"u\", \"v\", \"w\", \"x\", \"y\", \"z\"};\n",
    "    public String temp;\n",
    "\n",
    "    // Method which takes a string and swaps a character\n",
    "    static char[] swap(String str, int i, char j)\n",
    "    {\n",
    "        char ch[] = str.toCharArray();\n",
    "        ch[i] = j;\n",
    "        return ch;\n",
    "    }\n",
    "\n",
    "    public String Calc(String message) {\n",
    "        temp = message;\n",
    "        // Looping through each character in the message\n",
    "        for (int i=0; i<temp.length(); i++) {  \n",
    "            // Cast the character to ascii to make substitutions much more efficient\n",
    "            int ascii = (int) temp.charAt(i);\n",
    "\n",
    "            // Letters at the end of the alphabet behave differently, so we create two separate conditionals\n",
    "            if (ascii > 64 && ascii < 88 || (ascii > 96 && ascii < 120)) {\n",
    "                ascii = ascii + 3;\n",
    "                String tempSwap = new String(swap(temp, i, (char) ascii));\n",
    "                temp = tempSwap;\n",
    "            }\n",
    "            // This is for the last three letters of the alphabet\n",
    "            else if (ascii > 87 && ascii < 91 || ascii > 119 && ascii < 123) {\n",
    "                ascii = ascii - 23;\n",
    "                String tempSwap = new String(swap(temp, i, (char) ascii));\n",
    "                temp = tempSwap;\n",
    "            }\n",
    "        } \n",
    "        return temp;\n",
    "    }\n",
    "    public static void main(String[] args) {\n",
    "        CaesarCipher cipherCalc = new CaesarCipher();\n",
    "        String message1 = \"Kfzb gly!\";\n",
    "        String message2 = \"zlab zlab zlab\";\n",
    "        String message3 = \"prmbozxifcoxdfifpqfzbumfxifalzflrp\";\n",
    "        System.out.println(cipherCalc.Calc(message1));\n",
    "        System.out.println(cipherCalc.Calc(message2));\n",
    "        System.out.println(cipherCalc.Calc(message3));\n",
    "\n",
    "\n",
    "    }\n",
    "}\n",
    "CaesarCipher.main(null);"
   ]
  },
  {
   "cell_type": "markdown",
   "metadata": {},
   "source": [
    "### Notes\n",
    "\n",
    "\n",
    "- While/for loops: \n",
    "  - repeats lines of code until a specific condition comes out false; can iterate over multiple elements\n",
    "- For loops are most tested\n",
    "- Strings: array chairs\n",
    "- Nested iteration: loop within a loop\n"
   ]
  }
 ],
 "metadata": {
  "kernelspec": {
   "display_name": "Java",
   "language": "java",
   "name": "java"
  },
  "language_info": {
   "codemirror_mode": "java",
   "file_extension": ".jshell",
   "mimetype": "text/x-java-source",
   "name": "java",
   "pygments_lexer": "java",
   "version": "11.0.16+8-post-Ubuntu-0ubuntu120.04"
  },
  "orig_nbformat": 4
 },
 "nbformat": 4,
 "nbformat_minor": 2
}
