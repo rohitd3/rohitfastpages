{
 "cells": [
  {
   "cell_type": "markdown",
   "metadata": {},
   "source": [
    "# Lesson 3 Homework - Boolean Expressions and if Statements\n",
    "\n",
    "\n",
    "- toc: true \n",
    "- comments: false\n",
    "- categories: [java]"
   ]
  },
  {
   "cell_type": "markdown",
   "metadata": {},
   "source": [
    "## Conditionals Exercises"
   ]
  },
  {
   "cell_type": "markdown",
   "metadata": {},
   "source": [
    "### 2"
   ]
  },
  {
   "cell_type": "code",
   "execution_count": 1,
   "metadata": {},
   "outputs": [
    {
     "name": "stdout",
     "output_type": "stream",
     "text": [
      "Input a: Input b: Input c: The roots are -0.552786404500042 and -1.4472135954999579\n"
     ]
    }
   ],
   "source": [
    "import java.util.Scanner;\n",
    "public class Exercise2 {\n",
    "\n",
    "    \n",
    "  public static void main(String[] Strings) {\n",
    "\n",
    "        Scanner input = new Scanner(System.in);\n",
    "\n",
    "            System.out.print(\"Input a: \");\n",
    "            double a = input.nextDouble();\n",
    "            System.out.print(\"Input b: \");\n",
    "            double b = input.nextDouble();\n",
    "            System.out.print(\"Input c: \");\n",
    "            double c = input.nextDouble();\n",
    "\n",
    "            double result = b * b - 4.0 * a * c;\n",
    "\n",
    "            if (result > 0.0) {\n",
    "                double r1 = (-b + Math.pow(result, 0.5)) / (2.0 * a);\n",
    "                double r2 = (-b - Math.pow(result, 0.5)) / (2.0 * a);\n",
    "                System.out.println(\"The roots are \" + r1 + \" and \" + r2);\n",
    "            } else if (result == 0.0) {\n",
    "                double r1 = -b / (2.0 * a);\n",
    "                System.out.println(\"The root is \" + r1);\n",
    "            } else {\n",
    "                System.out.println(\"The equation has no real roots.\");\n",
    "            }\n",
    "\n",
    "    }\n",
    "}\n",
    "Exercise2.main(null);"
   ]
  },
  {
   "cell_type": "markdown",
   "metadata": {},
   "source": [
    "### 4"
   ]
  },
  {
   "cell_type": "code",
   "execution_count": 4,
   "metadata": {},
   "outputs": [
    {
     "name": "stdout",
     "output_type": "stream",
     "text": [
      "Input value: Positive number\n"
     ]
    }
   ],
   "source": [
    "import java.util.Scanner;\n",
    "public class Exercise4 {\n",
    "\n",
    "    \n",
    "  public static void main(String[] args)\n",
    "    {\n",
    "        Scanner in = new Scanner(System.in);\n",
    "        System.out.print(\"Input value: \");\n",
    "        double input = in.nextDouble();\n",
    "\n",
    "        if (input > 0)\n",
    "        {\n",
    "            if (input < 1)\n",
    "            {\n",
    "                System.out.println(\"Positive small number\");\n",
    "            }\n",
    "            else if (input > 1000000)\n",
    "            {\n",
    "                System.out.println(\"Positive large number\");\n",
    "            }\n",
    "            else\n",
    "            {\n",
    "                System.out.println(\"Positive number\");\n",
    "            }\n",
    "        }\n",
    "        else if (input < 0)\n",
    "        {\n",
    "            if (Math.abs(input) < 1)\n",
    "            {\n",
    "                System.out.println(\"Negative small number\");\n",
    "            }\n",
    "            else if (Math.abs(input) > 1000000)\n",
    "            {\n",
    "                System.out.println(\"Negative large number\");\n",
    "            }\n",
    "            else\n",
    "            {\n",
    "                System.out.println(\"Negative number\");\n",
    "            }\n",
    "        }\n",
    "        else\n",
    "        {\n",
    "            System.out.println(\"Zero\");\n",
    "        }\n",
    "    }\n",
    "}\n",
    "Exercise4.main(null);"
   ]
  },
  {
   "cell_type": "markdown",
   "metadata": {},
   "source": [
    "### 6"
   ]
  },
  {
   "cell_type": "code",
   "execution_count": 5,
   "metadata": {},
   "outputs": [
    {
     "name": "stdout",
     "output_type": "stream",
     "text": [
      "Input floating-point number: Input floating-point another number: They are different\n"
     ]
    }
   ],
   "source": [
    "import java.util.Scanner;\n",
    "public class Exercise6 {\n",
    "\n",
    "    \n",
    "  public static void main(String[] args)\n",
    "    {\n",
    "        Scanner in = new Scanner(System.in);\n",
    "\n",
    "        System.out.print(\"Input floating-point number: \");\n",
    "        double x = in.nextDouble();\n",
    "        System.out.print(\"Input floating-point another number: \");\n",
    "        double y = in.nextDouble();\n",
    "\n",
    "        x = Math.round(x * 1000);\n",
    "        x = x / 1000;\n",
    "\n",
    "        y = Math.round(y * 1000);\n",
    "        y = y / 1000;\n",
    "\n",
    "        if (x == y)\n",
    "        {\n",
    "            System.out.println(\"They are the same up to three decimal places\");\n",
    "        }\n",
    "        else\n",
    "        {\n",
    "            System.out.println(\"They are different\");\n",
    "        }\n",
    "    }\n",
    "}\n",
    "Exercise6.main(null);"
   ]
  },
  {
   "cell_type": "markdown",
   "metadata": {},
   "source": [
    "### 8"
   ]
  },
  {
   "cell_type": "code",
   "execution_count": 8,
   "metadata": {},
   "outputs": [
    {
     "name": "stdout",
     "output_type": "stream",
     "text": [
      "Input an alphabet: Input letter is Vowel\n"
     ]
    }
   ],
   "source": [
    "import java.util.Scanner;\n",
    "public class Exercise8 {\n",
    "\n",
    "    \n",
    "  public static void main(String[] args)\n",
    "    {\n",
    "        Scanner in = new Scanner(System.in);\n",
    "\n",
    "        System.out.print(\"Input an alphabet: \");\n",
    "        String input = in.next().toLowerCase();\n",
    "\n",
    "        boolean uppercase = input.charAt(0) >= 65 && input.charAt(0) <= 90;\n",
    "        boolean lowercase = input.charAt(0) >= 97 && input.charAt(0) <= 122;\n",
    "        boolean vowels = input.equals(\"a\") || input.equals(\"e\") || input.equals(\"i\")\n",
    "                || input.equals(\"o\") || input.equals(\"u\");\n",
    "\n",
    "        if (input.length() > 1)\n",
    "        {\n",
    "            System.out.println(\"Error. Not a single character.\");\n",
    "        }\n",
    "        else if (!(uppercase || lowercase))\n",
    "        {\n",
    "            System.out.println(\"Error. Not a letter. Enter uppercase or lowercase letter.\");\n",
    "        }\n",
    "        else if (vowels)\n",
    "        {\n",
    "            System.out.println(\"Input letter is Vowel\");\n",
    "        }\n",
    "        else\n",
    "        {\n",
    "            System.out.println(\"Input letter is Consonant\");\n",
    "        }\n",
    "    }\n",
    "}\n",
    "Exercise8.main(null);"
   ]
  },
  {
   "cell_type": "markdown",
   "metadata": {},
   "source": [
    "### 10\n"
   ]
  },
  {
   "cell_type": "code",
   "execution_count": 9,
   "metadata": {},
   "outputs": [
    {
     "name": "stdout",
     "output_type": "stream",
     "text": [
      "The first 10 natural numbers are:\n",
      "\n",
      "1\n",
      "2\n",
      "3\n",
      "4\n",
      "5\n",
      "6\n",
      "7\n",
      "8\n",
      "9\n",
      "10\n",
      "\n",
      "\n"
     ]
    }
   ],
   "source": [
    "public class Exercise10 {\n",
    "    \n",
    "    public static void main(String[] args)\n",
    "      {     \n",
    "      int i;\n",
    "      System.out.println (\"The first 10 natural numbers are:\\n\");\n",
    "      for (i=1;i<=10;i++)\n",
    "      {      \n",
    "          System.out.println (i);\n",
    "      }\n",
    "  System.out.println (\"\\n\");\n",
    "  }\n",
    "  }\n",
    "Exercise10.main(null);"
   ]
  },
  {
   "cell_type": "markdown",
   "metadata": {},
   "source": [
    "### 12"
   ]
  },
  {
   "cell_type": "code",
   "execution_count": 12,
   "metadata": {},
   "outputs": [
    {
     "name": "stdout",
     "output_type": "stream",
     "text": [
      "Input the 5 numbers : \n",
      "The sum of 5 no is : 18\n",
      "The Average is : 3.0\n"
     ]
    }
   ],
   "source": [
    "import java.util.Scanner;\n",
    "public class Exercise12 {\n",
    "\n",
    "    \n",
    "  public static void main(String[] args)\n",
    "\n",
    "{       \n",
    "    int i,n=0,s=0;\n",
    "\tdouble avg;\n",
    "\t{\n",
    "\t   \n",
    "        System.out.println(\"Input the 5 numbers : \");  \n",
    "         \n",
    "\t}\n",
    "\t\tfor (i=0;i<5;i++)\n",
    "\t\t{\n",
    "\t\t    Scanner in = new Scanner(System.in);\n",
    "\t\t    n = in.nextInt();\n",
    "\t\t    \n",
    "  \t\ts +=n;\n",
    "\t}\n",
    "\tavg=s/5;\n",
    "\tSystem.out.println(\"The sum of 5 no is : \" +s+\"\\nThe Average is : \" +avg);\n",
    " \n",
    "}\n",
    "}\n",
    "Exercise12.main(null);\n",
    "\n"
   ]
  },
  {
   "cell_type": "markdown",
   "metadata": {},
   "source": [
    "### 14"
   ]
  },
  {
   "cell_type": "code",
   "execution_count": 13,
   "metadata": {},
   "outputs": [
    {
     "name": "stdout",
     "output_type": "stream",
     "text": [
      "Input the number(Table to be calculated): Input number of terms : \n",
      "\n",
      "6 X 0 = 0\n",
      "6 X 1 = 6\n",
      "6 X 2 = 12\n",
      "6 X 3 = 18\n",
      "6 X 4 = 24\n",
      "6 X 5 = 30\n",
      "6 X 6 = 36\n"
     ]
    }
   ],
   "source": [
    "import java.util.Scanner;\n",
    "public class Exercise14 {\n",
    "\n",
    "   public static void main(String[] args)\n",
    "\n",
    "{\n",
    "   int j,n;\n",
    "\n",
    "   System.out.print(\"Input the number(Table to be calculated): \");\n",
    "{\n",
    "   System.out.print(\"Input number of terms : \");\n",
    "    Scanner in = new Scanner(System.in);\n",
    "\t\t    n = in.nextInt();\n",
    "\n",
    "   System.out.println (\"\\n\");\n",
    "   for(j=0;j<=n;j++)\n",
    "  \n",
    "     System.out.println(n+\" X \"+j+\" = \" +n*j);\n",
    "   }\n",
    "}\n",
    "}\n",
    "Exercise14.main(null);"
   ]
  },
  {
   "cell_type": "markdown",
   "metadata": {},
   "source": [
    "### 16"
   ]
  },
  {
   "cell_type": "code",
   "execution_count": 14,
   "metadata": {},
   "outputs": [
    {
     "name": "stdout",
     "output_type": "stream",
     "text": [
      "Input number of rows : 1\n",
      "12\n",
      "123\n",
      "1234\n",
      "12345\n",
      "123456\n",
      "1234567\n",
      "12345678\n",
      "123456789\n",
      "12345678910\n",
      "1234567891011\n",
      "123456789101112\n",
      "12345678910111213\n",
      "1234567891011121314\n",
      "123456789101112131415\n",
      "12345678910111213141516\n",
      "1234567891011121314151617\n",
      "123456789101112131415161718\n",
      "12345678910111213141516171819\n"
     ]
    }
   ],
   "source": [
    "import java.util.Scanner;\n",
    "public class Exercise16 {\n",
    "\n",
    "   public static void main(String[] args)\n",
    "\n",
    "{\n",
    "   int i,j,n;\n",
    "   System.out.print(\"Input number of rows : \");\n",
    " Scanner in = new Scanner(System.in);\n",
    "\t\t    n = in.nextInt();\n",
    "\n",
    "   for(i=1;i<=n;i++)\n",
    "   {\n",
    "\tfor(j=1;j<=i;j++)\n",
    "\t  System.out.print(j);\n",
    "\n",
    "    System.out.println(\"\");\n",
    "    }\n",
    "}\n",
    "}\n",
    "Exercise16.main(null);"
   ]
  },
  {
   "cell_type": "markdown",
   "metadata": {},
   "source": [
    "### 18"
   ]
  },
  {
   "cell_type": "code",
   "execution_count": 15,
   "metadata": {},
   "outputs": [
    {
     "name": "stdout",
     "output_type": "stream",
     "text": [
      "Input number of rows : 1\n",
      "23\n",
      "456\n",
      "78910\n",
      "1112131415\n",
      "161718192021\n",
      "22232425262728\n",
      "2930313233343536\n",
      "373839404142434445\n"
     ]
    }
   ],
   "source": [
    "import java.util.Scanner;\n",
    "public class Exercise18 {\n",
    "\n",
    "  public static void main(String[] args)\n",
    "\n",
    "{\n",
    "   \t\tint i,j,n,k=1;\n",
    "\n",
    "   \t\tSystem.out.print(\"Input number of rows : \");\n",
    "\n",
    "   \t\tScanner in = new Scanner(System.in);\n",
    "\t\t    n = in.nextInt();\n",
    "\n",
    "   \t\tfor(i=1;i<=n;i++)\n",
    "   \t\t{\n",
    "\t\tfor(j=1;j<=i;j++)\n",
    "\t   \tSystem.out.print(k++);\n",
    "\t   \tSystem.out.println(\"\");\n",
    "\t   \t}  \t\t\n",
    "\t}\n",
    "\t}\n",
    "\tExercise18.main(null);\n",
    "\n"
   ]
  },
  {
   "cell_type": "markdown",
   "metadata": {},
   "source": [
    "### 20"
   ]
  },
  {
   "cell_type": "code",
   "execution_count": 16,
   "metadata": {},
   "outputs": [
    {
     "name": "stdout",
     "output_type": "stream",
     "text": [
      "Input number of rows : 1 \n"
     ]
    }
   ],
   "source": [
    "import java.util.Scanner;\n",
    "public class Exercise20 {\n",
    "public static void main(String[] args)\n",
    " {\n",
    "   int numberOfRows;\n",
    "   System.out.print(\"Input number of rows : \");\n",
    "   Scanner in = new Scanner(System.in);\n",
    "\t\t    numberOfRows = in.nextInt();\n",
    "   int number = 1;\n",
    "   for (int row = 1; row <= numberOfRows; row++)\n",
    "    {\n",
    "   for (int column = 1; column <= row; column++)\n",
    "     {\n",
    "       System.out.print(number + \" \");\n",
    "       number++;\n",
    "     }\n",
    "     System.out.println();\n",
    "    }\n",
    "  }\n",
    "}\n",
    "\n",
    "Exercise20.main(null);"
   ]
  },
  {
   "cell_type": "markdown",
   "metadata": {},
   "source": [
    "### Notes\n",
    "\n",
    "\n",
    "- if the boolean expression is true or false dictates whether the code will run\n",
    "- if-else statements sets up alternate code if the first expression turns false\n",
    "- else-if statements allow for more conditions to be defined\n",
    "- De Morgan's law:\n",
    "  - !(a&&b) = (!a || !b)\n",
    "\n",
    "  - !(a || b) = (!a && !b)\n",
    "- Comparing objects through ==\n"
   ]
  }
 ],
 "metadata": {
  "kernelspec": {
   "display_name": "Java",
   "language": "java",
   "name": "java"
  },
  "language_info": {
   "codemirror_mode": "java",
   "file_extension": ".jshell",
   "mimetype": "text/x-java-source",
   "name": "java",
   "pygments_lexer": "java",
   "version": "11.0.16+8-post-Ubuntu-0ubuntu120.04"
  },
  "orig_nbformat": 4
 },
 "nbformat": 4,
 "nbformat_minor": 2
}
