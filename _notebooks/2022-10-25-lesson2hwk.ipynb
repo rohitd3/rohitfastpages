{
 "cells": [
  {
   "cell_type": "markdown",
   "metadata": {},
   "source": [
    "# Lesson 2 Homework - Using Objects\n",
    "> FRQ homework assignment\n",
    "\n",
    "- toc: false \n",
    "- comments: false\n",
    "- categories: [java]"
   ]
  },
  {
   "cell_type": "code",
   "execution_count": 1,
   "metadata": {},
   "outputs": [],
   "source": [
    "public int scoreGuess(String guess)\n",
    "{\n",
    "    int count = 0;\n",
    "    for (int i = 0; i <= secret.length() - guess.length(); i++)\n",
    "    {\n",
    "        if (secret.substring(i, i + guess.length()).equals(guess))\n",
    "        {\n",
    "            count++;\n",
    "        }\n",
    "    }\n",
    "    return count * guess.length();\n",
    "}"
   ]
  },
  {
   "cell_type": "code",
   "execution_count": 2,
   "metadata": {},
   "outputs": [],
   "source": [
    "public String findBetterGuess(String guess1, String guess2)\n",
    "{\n",
    "    if (scoreGuess(guess1) > scoreGuess(guess2))\n",
    "    {\n",
    "        return guess1;\n",
    "    }\n",
    "    if (scoreGuess(guess2) > scoreGuess(guess1))\n",
    "    {\n",
    "        return guess2;\n",
    "    }\n",
    "    if (guess1.compareTo(guess2) > 0)\n",
    "    {\n",
    "        return guess1;\n",
    "    }\n",
    "    return guess2;\n",
    "}"
   ]
  },
  {
   "cell_type": "markdown",
   "metadata": {},
   "source": [
    "### Notes\n",
    "\n",
    "- Classes are blueprints for creating objects\n",
    "- Objects are instances within a class\n",
    "- Methods: certain set of code that runs a specific task\n",
    "- Class attributes are inherited by objects\n",
    "- Learned about myPainter in Code.org\n",
    "- Non static methods are dot operators "
   ]
  }
 ],
 "metadata": {
  "kernelspec": {
   "display_name": "Java",
   "language": "java",
   "name": "java"
  },
  "language_info": {
   "codemirror_mode": "java",
   "file_extension": ".jshell",
   "mimetype": "text/x-java-source",
   "name": "java",
   "pygments_lexer": "java",
   "version": "11.0.16+8-post-Ubuntu-0ubuntu120.04"
  },
  "orig_nbformat": 4
 },
 "nbformat": 4,
 "nbformat_minor": 2
}
