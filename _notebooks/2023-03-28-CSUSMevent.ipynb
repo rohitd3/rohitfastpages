{
 "cells": [
  {
   "cell_type": "markdown",
   "metadata": {},
   "source": [
    "# CSUSM Event Write Up\n",
    "> Talk by Ashley and John\n",
    "\n",
    "- toc: true \n",
    "- comments: true\n",
    "- categories: [entry]"
   ]
  },
  {
   "attachments": {},
   "cell_type": "markdown",
   "metadata": {},
   "source": [
    "Ashley and John talked about their experience and the opportunities available at Cal State San Marcos (CSUSM). John began his academic journey at Palomar College and pursued a computer science degree, which took him six years to complete. They mentioned that CSUSM is a leader in social mobility and offers various pathways such as chemistry, biochemistry, physics, applied physics, computer science, computer engineering, math, electrical engineering, software engineering, and mechanical engineering. They also highlighted the various clubs, hackathons, and internship opportunities available at CSUSM, such as the cyber security club, robotics, women in STEM, and the Society of Physics Students. Ashley and John emphasized the importance of networking and attending career fairs to find internships and job opportunities. They also mentioned the Quantum Bridge program, research opportunities in meteorites, quantum information sciences, and microplastics, and the availability of privately funded scholarships and government-funded grants. \n",
    "\n",
    "Overall they emphasized that in college we should take every opportunity we are given to further our education and curiosity. Both Ashley and John have different interests in computer science and they are on their own separate paths. We should follow our own pace and explore our personal interests that we believe will help us in the real world and industry.\n"
   ]
  }
 ],
 "metadata": {
  "kernelspec": {
   "display_name": "Java",
   "language": "java",
   "name": "java"
  },
  "language_info": {
   "name": "java"
  },
  "orig_nbformat": 4
 },
 "nbformat": 4,
 "nbformat_minor": 2
}
