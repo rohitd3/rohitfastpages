{
 "cells": [
  {
   "cell_type": "markdown",
   "metadata": {},
   "source": [
    "# Lesson 7\n",
    "\n",
    "- toc: true \n",
    "- comments: false\n",
    "- categories: [java]"
   ]
  },
  {
   "cell_type": "markdown",
   "metadata": {},
   "source": [
    "\n",
    "Learnings\n",
    "\n",
    "- Like an array but length is variable\n",
    "- Must sue wrapper class\n",
    "- Works with enhanced loops\n",
    "- Used with arraylist for primitives"
   ]
  },
  {
   "cell_type": "markdown",
   "metadata": {},
   "source": [
    "### Key Learning on Wrapper Classes\n",
    "\n",
    "- Used with arraylist for primitives\n",
    "- Java auto converts between wrappers and primitives\n",
    "- An ArrayList cannot directly represent primitive datatypes. In the above example, I wanted an ArrayList of integers. The datatype that I provide is not int - it is instead Integer.\n",
    "- At a lower level, wrapper classes are classes that encapsulate data types, so that you can create objects of those datatypes. You can only have an ArrayList of objects, so this is one good use case for wrapper classes."
   ]
  },
  {
   "attachments": {},
   "cell_type": "markdown",
   "metadata": {},
   "source": [
    "## Hack 1"
   ]
  },
  {
   "cell_type": "code",
   "execution_count": 2,
   "metadata": {},
   "outputs": [
    {
     "name": "stdout",
     "output_type": "stream",
     "text": [
      "4\n",
      "4\n",
      "3\n",
      "5\n",
      "3\n"
     ]
    }
   ],
   "source": [
    "// HACK!!!!\n",
    "// Create an arrayList and use one of the cool methods for it\n",
    "\n",
    "import java.util.ArrayList; \n",
    "import java.lang.Math;\n",
    "\n",
    "public class hack1 {\n",
    "    public static void main (String[] args) {\n",
    "        ArrayList<Integer> arr = new ArrayList<Integer>();\n",
    "        arr.add(5);\n",
    "        arr.add(4);\n",
    "        arr.add(3);\n",
    "        int min = 0;\n",
    "        int max = arr.size();\n",
    "        int range = max - min;\n",
    "        \n",
    "        for (int i = 0; i < 5; i++) {\n",
    "            int rand = (int)(Math.random() * range) + min;\n",
    "            System.out.println(arr.get(rand));\n",
    "        }\n",
    "\n",
    "       \n",
    "    }\n",
    "}\n",
    "\n",
    "hack1.main(null);"
   ]
  },
  {
   "attachments": {},
   "cell_type": "markdown",
   "metadata": {},
   "source": [
    "## Hack 2"
   ]
  },
  {
   "cell_type": "code",
   "execution_count": 3,
   "metadata": {},
   "outputs": [
    {
     "name": "stdout",
     "output_type": "stream",
     "text": [
      "[green box, blue water]\n"
     ]
    }
   ],
   "source": [
    "import java.util.ArrayList;\n",
    "\n",
    "public class main {\n",
    "    public static void main(String[] args) {\n",
    "        ArrayList<String> color = new ArrayList<String>(); \n",
    "        color.add(\"red apple\");\n",
    "        color.add(\"green box\");\n",
    "        color.add(\"blue water\");\n",
    "        color.add(\"red panda\");\n",
    "\n",
    "\n",
    "        for (int i = 0; i < color.size(); i++) {\n",
    "            if(color.get(i).contains(\"red\")) {\n",
    "                color.remove(i);\n",
    "            }\n",
    "        }\n",
    "        \n",
    "        System.out.println(color);\n",
    "    }\n",
    "}\n",
    "\n",
    "main.main(null);"
   ]
  },
  {
   "attachments": {},
   "cell_type": "markdown",
   "metadata": {},
   "source": [
    "## Hack 3"
   ]
  },
  {
   "cell_type": "code",
   "execution_count": 4,
   "metadata": {},
   "outputs": [
    {
     "name": "stdout",
     "output_type": "stream",
     "text": [
      "9\n"
     ]
    }
   ],
   "source": [
    "ArrayList<Integer> num = new ArrayList<Integer>(); \n",
    "\n",
    "num.add(5);\n",
    "num.add(1);\n",
    "num.add(3);\n",
    "\n",
    "public int sum = 0;\n",
    "\n",
    "for (int i = 0; i<num.size(); i++) {\n",
    "    sum = sum + num.get(i);\n",
    "}\n",
    "\n",
    "System.out.println(sum);"
   ]
  }
 ],
 "metadata": {
  "kernelspec": {
   "display_name": "Java",
   "language": "java",
   "name": "java"
  },
  "language_info": {
   "codemirror_mode": "java",
   "file_extension": ".jshell",
   "mimetype": "text/x-java-source",
   "name": "java",
   "pygments_lexer": "java",
   "version": "11.0.17+8-post-Ubuntu-1ubuntu222.04"
  },
  "orig_nbformat": 4
 },
 "nbformat": 4,
 "nbformat_minor": 2
}
