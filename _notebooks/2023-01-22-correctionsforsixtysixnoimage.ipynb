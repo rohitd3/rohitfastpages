{
 "cells": [
  {
   "attachments": {},
   "cell_type": "markdown",
   "metadata": {},
   "source": [
    "# 66 CB MC Tri 2 Corrections + Reflection\n",
    "\n",
    "- toc: true \n",
    "- badges: true\n",
    "- comments: true\n",
    "- categories: [cb]"
   ]
  },
  {
   "attachments": {},
   "cell_type": "markdown",
   "metadata": {},
   "source": [
    "## Total score: 59/66"
   ]
  },
  {
   "attachments": {},
   "cell_type": "markdown",
   "metadata": {},
   "source": [
    "## Q12 Compound Boolean expression with variables x and y\n",
    "\n",
    "![image](https://user-images.githubusercontent.com/44128572/214117163-41a95c37-d647-4440-b928-e030eb269ecc.png)\n",
    "\n",
    "Answer B is incorrect. This expression will always evaluate to true since x is always either greater than 1000 or less than 1500. Answer A is correct. The original expression evaluates to true when either y is greater than 10000 or x is between 1000 and 1500. If the value of y is greater than 10000, this equivalent expression will evaluate to true since it is used in both of the or (||) expressions. If y is not greater than 10000, the only way the equivalent expression can evaluate to true is if x is between 1000 and 1500."
   ]
  },
  {
   "attachments": {},
   "cell_type": "markdown",
   "metadata": {},
   "source": [
    "## Q19 equivalent expressions\n",
    "\n",
    "![image](https://user-images.githubusercontent.com/44128572/214117453-1d5022b6-e06e-4708-8373-7ae1d63fba1a.png)\n",
    "\n",
    "\n",
    "C is incorrect. The expressions are not equivalent when a has the value 2, b has the value 1, c has the value 3, and d has the value 4. A is the right answer according to De Morgan's laws, the given expression is equivalent to (a < b) || (c < d)."
   ]
  },
  {
   "attachments": {},
   "cell_type": "markdown",
   "metadata": {},
   "source": [
    "## Q25 error in ItemInventory class\n",
    "\n",
    "\n",
    "![image](https://user-images.githubusercontent.com/44128572/214118220-a88d9bf4-a3ad-465a-a912-b8b1cb86b986.png)\n",
    "\n",
    "Answer C is incorrect. The constructor parameter is used by the assignment statement to initialize the instance variable numItems. Answer B is correct. The mutator method updateItems must have a return type. In this case, since no value is returned, the return type should be void.\n"
   ]
  },
  {
   "attachments": {},
   "cell_type": "markdown",
   "metadata": {},
   "source": [
    "## Q34 for loop equivalent to enhanced for loop\n",
    "\n",
    "![image](https://user-images.githubusercontent.com/44128572/214118399-0c4381b2-23db-4a07-9ca1-070b52c96c1b.png)\n",
    "\n",
    "A is incorrect. The original code segment prints the sum of twice the value of the elements in the array. This code segment prints a value that is twice the sum of the integers from 0 to arr.length - 1. D is the correct answer. The original code segment uses an enhanced for loop to iterate through the elements of array arr, uses variable sum to accumulate the sum of twice the value of the elements in the array, and prints the value of sum. This code segment produces the same output using a regular for loop. As the index k varies from 0 to arr.length - 1, twice the value of arr[k] accumulates in the variable sum."
   ]
  },
  {
   "attachments": {},
   "cell_type": "markdown",
   "metadata": {},
   "source": [
    "## Q36 GridWorld getDirection and getMoveLocation calls\n",
    "\n",
    "![image](https://user-images.githubusercontent.com/44128572/214120098-44ca275f-d3f4-49a6-9d08-1099256e6360.png)\n",
    "\n",
    "Line 4 will causes a compile time error. "
   ]
  },
  {
   "attachments": {},
   "cell_type": "markdown",
   "metadata": {},
   "source": [
    "## Q39 isLeapYear\n",
    "\n",
    "![image](https://user-images.githubusercontent.com/44128572/214118557-4bec0700-69de-4f44-b58c-25a6dbe7d272.png)\n",
    "\n",
    "Answer D is incorrect. The value 2001 is not a multiple of 4, so the expression (val % 4) == 0 evaluates to false and the statement return (val % 400) == 0; is executed and the method returns false, as intended. Answer A is the correct choice because the value 1900 is a multiple of 4, so the expression (val % 4) == 0 evaluates to true and the statement return true; is executed, thereby exiting the method with a return value of true. This is an error because even though 1900 is a multiple of 100, it is not a multiple of 400, so the method should have returned false. Any value that is a multiple of 100 but not a multiple of 400 will pass the first test and return true even though the method was intended to return false."
   ]
  },
  {
   "attachments": {},
   "cell_type": "markdown",
   "metadata": {},
   "source": [
    "## Q41 mystery call to get 11\n",
    "\n",
    "![image](https://user-images.githubusercontent.com/44128572/214116523-850fe831-c1fa-4a37-a564-622b978e0926.png)\n",
    "Answer choice B is correct because a is true, !a is false and the body of the first if statement is not executed. Since b is false, the body of the second if statement is not executed. Since c is true, the body of the third if statement is executed and the value 7 + 4 = 11 is returned."
   ]
  }
 ],
 "metadata": {
  "kernelspec": {
   "display_name": "Java",
   "language": "java",
   "name": "java"
  },
  "language_info": {
   "codemirror_mode": "java",
   "file_extension": ".jshell",
   "mimetype": "text/x-java-source",
   "name": "java",
   "pygments_lexer": "java",
   "version": "17.0.5+8-Ubuntu-2ubuntu120.04"
  },
  "orig_nbformat": 4
 },
 "nbformat": 4,
 "nbformat_minor": 2
}
