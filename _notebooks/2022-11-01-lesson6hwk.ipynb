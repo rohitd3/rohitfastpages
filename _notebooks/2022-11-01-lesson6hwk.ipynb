{
 "cells": [
  {
   "cell_type": "markdown",
   "metadata": {},
   "source": [
    "# Lesson 6 - Array\n",
    "\n",
    "- toc: true \n",
    "- comments: false\n",
    "- categories: [java]"
   ]
  },
  {
   "cell_type": "markdown",
   "metadata": {},
   "source": [
    "### Notes\n",
    "\n",
    "- Arrays: one type of data storage\n",
    "- Reference types\n",
    "- Need import java.util Arrays\n",
    "- Initialize arrays using constructors\n",
    "- Access elements through arrayName[index]\n",
    "\n"
   ]
  },
  {
   "cell_type": "markdown",
   "metadata": {},
   "source": [
    "### HACK 1"
   ]
  },
  {
   "cell_type": "code",
   "execution_count": 6,
   "metadata": {},
   "outputs": [],
   "source": [
    "// HACK 1\n",
    "\n",
    "int[] arrayOne = {1, 3, 5, 7, 9};\n",
    "\n",
    "for (int num : arrayOne) {\n",
    "    if (num % 2 == 0) {\n",
    "        System.out.println(num);\n",
    "    } \n",
    "}\n"
   ]
  },
  {
   "cell_type": "markdown",
   "metadata": {},
   "source": [
    "### HACK 2"
   ]
  },
  {
   "cell_type": "code",
   "execution_count": null,
   "metadata": {},
   "outputs": [],
   "source": [
    "// HACK 2\n",
    "// Answer is B"
   ]
  },
  {
   "cell_type": "markdown",
   "metadata": {},
   "source": [
    "### HACK 3"
   ]
  },
  {
   "cell_type": "code",
   "execution_count": 7,
   "metadata": {},
   "outputs": [
    {
     "name": "stdout",
     "output_type": "stream",
     "text": [
      "1\n",
      "2\n",
      "3\n",
      "4\n",
      "5\n"
     ]
    }
   ],
   "source": [
    "// HACK 3\n",
    "\n",
    "import java.util.Arrays;\n",
    "\n",
    "public class arraySorter {\n",
    "    public static void main(int[] a) {\n",
    "        Arrays.sort(a);\n",
    "        for (int i : a) {\n",
    "            System.out.println(i);\n",
    "        }\n",
    "    }\n",
    "}\n",
    "\n",
    "int[] myNumbers = new int[] {5, 3, 4, 1, 2};\n",
    "arraySorter.main(myNumbers);"
   ]
  },
  {
   "cell_type": "markdown",
   "metadata": {},
   "source": [
    "### HACK 4"
   ]
  },
  {
   "cell_type": "code",
   "execution_count": null,
   "metadata": {},
   "outputs": [],
   "source": [
    "// HACK 4\n",
    "// ANSWER IS B"
   ]
  },
  {
   "cell_type": "markdown",
   "metadata": {},
   "source": [
    "### HACK 5"
   ]
  },
  {
   "cell_type": "code",
   "execution_count": null,
   "metadata": {},
   "outputs": [],
   "source": [
    "// HACK 5\n",
    "\n",
    "public class ForEachDemo\n",
    "{\n",
    "   public static void main(String[] args)\n",
    "   {\n",
    "     int[] highScores = { 10, 9, 8, 8};\n",
    "     String[] names = {\"Jamal\", \"Emily\", \"Destiny\", \"Mateo\"};\n",
    "     // for each loop with an int array\n",
    "     for (int value : highScores)\n",
    "     {\n",
    "         System.out.println( value );\n",
    "     }\n",
    "     // for each loop with a String array\n",
    "     for (String value : names)\n",
    "     {\n",
    "         System.out.println(value); // this time it's a name!\n",
    "     }\n",
    "   }\n",
    " }"
   ]
  },
  {
   "cell_type": "markdown",
   "metadata": {},
   "source": [
    "### HACK 6"
   ]
  },
  {
   "cell_type": "code",
   "execution_count": null,
   "metadata": {},
   "outputs": [],
   "source": [
    "// HACK 6\n",
    "// ANSWER IS D"
   ]
  },
  {
   "cell_type": "markdown",
   "metadata": {},
   "source": [
    "### HACK 7"
   ]
  },
  {
   "cell_type": "code",
   "execution_count": 8,
   "metadata": {},
   "outputs": [
    {
     "data": {
      "text/plain": [
       "[9, 4, 7]"
      ]
     },
     "execution_count": 8,
     "metadata": {},
     "output_type": "execute_result"
    }
   ],
   "source": [
    "// HACK 7 \n",
    "public class leftShifted {\n",
    "    public static int[] main(int[] a) {\n",
    "        int first = a[0];\n",
    "        for (int i=1; i<a.length; i++) {\n",
    "            a[i-1] = a[i];\n",
    "        }\n",
    "        a[a.length-1] = first;\n",
    "        return a;\n",
    "    }\n",
    "}\n",
    "\n",
    "int[] array = {7,9,4};\n",
    "int[] array_out = leftShifted.main(array);\n",
    "\n",
    "Arrays.toString(array_out)"
   ]
  },
  {
   "cell_type": "markdown",
   "metadata": {},
   "source": [
    "### HACK 8"
   ]
  },
  {
   "cell_type": "code",
   "execution_count": 9,
   "metadata": {},
   "outputs": [
    {
     "data": {
      "text/plain": [
       "2"
      ]
     },
     "execution_count": 9,
     "metadata": {},
     "output_type": "execute_result"
    }
   ],
   "source": [
    "// HACK 8\n",
    "public class findDuplicate {\n",
    "    public static int main(int[] a, int b) {\n",
    "        \n",
    "        int d=0;\n",
    "\n",
    "        for (int number : a) {\n",
    "            if (number==b) {\n",
    "                d++;\n",
    "            }\n",
    "        }\n",
    "        return d;\n",
    "    }\n",
    "}\n",
    "\n",
    "int[] array = {7,7,9,4};\n",
    "findDuplicate.main(array, 7);"
   ]
  },
  {
   "cell_type": "markdown",
   "metadata": {},
   "source": [
    "### HACK 9"
   ]
  },
  {
   "cell_type": "code",
   "execution_count": 10,
   "metadata": {},
   "outputs": [
    {
     "name": "stdout",
     "output_type": "stream",
     "text": [
      "olleh\n"
     ]
    }
   ],
   "source": [
    "// HACK 9\n",
    "public class reverseString {\n",
    "    public static char[] main(char[] s) {\n",
    "        char[] reverse = new char[s.length];\n",
    "        for (int i=s.length-1; i>=0; i--) {\n",
    "            reverse[s.length-i-1] = s[i];\n",
    "        }\n",
    "\n",
    "        return reverse;\n",
    "    }\n",
    "}\n",
    "\n",
    "String s = \"hello\";\n",
    "char[] c = s.toCharArray();\n",
    "char[] reverse = reverseString.main(c);\n",
    "\n",
    "// Arrays.toString(reverse)\n",
    "String reversed = new String(reverse);\n",
    "System.out.println(reversed);"
   ]
  },
  {
   "cell_type": "markdown",
   "metadata": {},
   "source": [
    "### FRQ PART A"
   ]
  },
  {
   "cell_type": "code",
   "execution_count": 11,
   "metadata": {},
   "outputs": [],
   "source": [
    "// FRQ PART A\n",
    "public void addMembers(String[] names, int gradYear) {\n",
    "    for (String name : names) {\n",
    "        MemberInfo member = new MemberInfo(name, gradYear, true);\n",
    "        memberList.add(member);\n",
    "    }\n",
    "}"
   ]
  }
 ],
 "metadata": {
  "kernelspec": {
   "display_name": "Java",
   "language": "java",
   "name": "java"
  },
  "language_info": {
   "codemirror_mode": "java",
   "file_extension": ".jshell",
   "mimetype": "text/x-java-source",
   "name": "java",
   "pygments_lexer": "java",
   "version": "11.0.16+8-post-Ubuntu-0ubuntu120.04"
  },
  "orig_nbformat": 4,
  "vscode": {
   "interpreter": {
    "hash": "916dbcbb3f70747c44a77c7bcd40155683ae19c65e1c03b4aa3499c5328201f1"
   }
  }
 },
 "nbformat": 4,
 "nbformat_minor": 2
}
