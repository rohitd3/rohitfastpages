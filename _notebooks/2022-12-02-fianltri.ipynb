{
 "cells": [
  {
   "cell_type": "markdown",
   "metadata": {},
   "source": [
    "# Unit 1-5 Lesson Notes\n",
    "> Lesson Score + Notes/Tangibles\n",
    "\n",
    "- toc: true \n",
    "- comments: false\n",
    "- categories: [entry]"
   ]
  },
  {
   "cell_type": "markdown",
   "metadata": {},
   "source": [
    "Unit 1\n",
    "\n",
    "[Work done](https://rohitd3.github.io/rohitfastpages/java/2022/10/24/lesson1hwk.html)\n",
    "\n",
    "\n",
    " - wrapper classes for all primitive data types like char, int, double, boolean where you can call in static methods that return values\n",
    " - primitive wrapper objects or string objects are immutable so the methods can't change\n",
    "   - Boolean, char, int, float, double are all primitive data types\n",
    "   - String, Array, etc. are non-primitive data types\n",
    " - String class are unable to be changed\n",
    " - declare a variable that can be accessible and/or changed\n",
    "   - (=) is used to initialize variables or change its associated value\n",
    "   - Operators are + - * / %\n",
    "   - Compound operators are +=, -=, *=, /=, %=\n",
    "   - Increment/decrement ++ or --\n"
   ]
  },
  {
   "cell_type": "markdown",
   "metadata": {},
   "source": [
    "Unit 2\n",
    "\n",
    "[Work done](https://rohitd3.github.io/rohitfastpages/java/2022/10/25/lesson2hwk.html)\n",
    "\n",
    " - classes are blueprints for creating objects\n",
    " - objects are instances within a class\n",
    "   - attributes are inherited by objects\n",
    "   - Non static methods are dot operators\n",
    " - methods are certain set of code that runs a specific task\n",
    " - overloaded methods give multiple methods the same name with different signatures\n",
    " - void methods don't return values\n",
    " - Non void methods return a value of the same type defined in the method signature\n",
    " - static methods are a part of a class instead of an instance of a class which is why it's in a bracket in the class\n"
   ]
  },
  {
   "cell_type": "markdown",
   "metadata": {},
   "source": [
    "Unit 3\n",
    "\n",
    "[Work done](https://rohitd3.github.io/rohitfastpages/java/2022/10/25/lesson3hwk.html)\n",
    "\n",
    " - boolean expression is true or false\n",
    " - If-else statements sets up alternate code if the first expression turns false\n",
    " - Else-if statements allow for more conditions to be defined\n",
    " - De Morgan's law: logical operators && (and) ll(or) and !(not)"
   ]
  },
  {
   "cell_type": "markdown",
   "metadata": {},
   "source": [
    "Unit 4\n",
    "\n",
    "[Work done](https://rohitd3.github.io/rohitfastpages/java/2022/10/27/lesson4hwk.html)\n",
    "\n",
    " - While/for loops: repeats lines of code until a specific condition comes out false; can iterate over multiple elements\n",
    " - For loops are most tested\n",
    " - Strings: array chairs\n"
   ]
  },
  {
   "cell_type": "markdown",
   "metadata": {},
   "source": [
    "Unit 5\n",
    "\n",
    "[Work done](https://rohitd3.github.io/rohitfastpages/java/2022/10/28/lesson5hwk.html)\n",
    "\n",
    " - Public classes: no restricted access - constructors\n",
    " - Private classes: restricted access - instance variables\n",
    " - Accessor method (getter): allows other objects to obtain values of instance variables or static variables\n",
    " - Non void methods return a single value\n",
    " - toString() method is a overridden method that provides description of a specific object\n",
    " - Mutator Method (setter): void method that changes value of instance variables/static variable\n"
   ]
  },
  {
   "cell_type": "markdown",
   "metadata": {},
   "source": [
    "Additional Vocab\n",
    "\n",
    "Primitives:\n",
    "- Doubles - 64 bits\n",
    "- Integers - 32 bits - use int when declaring, not Integer. Integer is non-primitive\n",
    "- Booleans - 1 bit\n",
    "- String is a non-primitive data type\n",
    "\n",
    "Non-primitive or Wrapper classes data types use methods to perform actions\n",
    "\n",
    "String Class\n",
    "\n",
    "Strings are immutable - unable to be changed\n",
    "\n",
    "Methods that act upon string objects do not change the state of the defined string object.\n",
    "\n",
    "\n",
    "Overloading with Constructors and Methods\n",
    "\n",
    "Constructors - initialize the attributes for an object\n",
    "- Constructors start with public, and have the same name as the class. In this case, these constructors are for the class Person\n",
    "\n",
    "Abstract class: is a restricted class that cannot be used to create objects (to access it, it must be inherited from another class).\n",
    "\n",
    "Abstract method: can only be used in an abstract class, and it does not have a body. The body is provided by the subclass (inherited from)\n",
    "\n",
    "Inheritance in Java is the method to create a hierarchy between classes by inheriting from other classes"
   ]
  }
 ],
 "metadata": {
  "kernelspec": {
   "display_name": "Python 3.8.10 64-bit",
   "language": "python",
   "name": "python3"
  },
  "language_info": {
   "name": "python",
   "version": "3.8.10"
  },
  "orig_nbformat": 4,
  "vscode": {
   "interpreter": {
    "hash": "916dbcbb3f70747c44a77c7bcd40155683ae19c65e1c03b4aa3499c5328201f1"
   }
  }
 },
 "nbformat": 4,
 "nbformat_minor": 2
}
