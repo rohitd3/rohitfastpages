{
 "cells": [
  {
   "attachments": {},
   "cell_type": "markdown",
   "metadata": {},
   "source": [
    "# Generics and Collections\n",
    "> Generics and Collections\n",
    "\n",
    "- toc: true \n",
    "- comments: true\n",
    "- categories: [java]"
   ]
  },
  {
   "cell_type": "code",
   "execution_count": 16,
   "metadata": {
    "vscode": {
     "languageId": "java"
    }
   },
   "outputs": [],
   "source": [
    "Queue<String> queue = new LinkedList<>();  // Queue interface uses LL implementation\n",
    "queue.add(\"John\");\n",
    "queue.add(\"Jane\");\n",
    "queue.add(\"Bob\");\n",
    "// Collections has a toArray convertion\n",
    "Object[] arr = queue.toArray();"
   ]
  },
  {
   "cell_type": "code",
   "execution_count": 15,
   "metadata": {
    "vscode": {
     "languageId": "java"
    }
   },
   "outputs": [
    {
     "name": "stdout",
     "output_type": "stream",
     "text": [
      "Iterate over Array\n",
      "John\n",
      "Jane\n",
      "Bob\n"
     ]
    }
   ],
   "source": [
    "// Iterate of array\n",
    "System.out.println(\"Iterate over Array\");\n",
    "for (Object a : arr){\n",
    "    // Type is Object from convertion\n",
    "    System.out.println(a);\n",
    "    // remove() method is called to remove and print the next element in the queue\n",
    "}\n"
   ]
  },
  {
   "cell_type": "code",
   "execution_count": 17,
   "metadata": {
    "vscode": {
     "languageId": "java"
    }
   },
   "outputs": [
    {
     "name": "stdout",
     "output_type": "stream",
     "text": [
      "Empty Queue\n",
      "John\n",
      "Jane\n",
      "Bob\n",
      "[]\n"
     ]
    }
   ],
   "source": [
    "// Empty queue\n",
    "System.out.println(\"Empty Queue\");\n",
    "while (queue.size() > 0) // Interate while size\n",
    "    System.out.println(queue.remove());\n",
    "    // remove() method is called to remove and print the next element in the queue\n",
    "\n",
    "System.out.println(queue);"
   ]
  },
  {
   "cell_type": "code",
   "execution_count": 27,
   "metadata": {
    "vscode": {
     "languageId": "java"
    }
   },
   "outputs": [],
   "source": [
    "/* This is wrapper class...\n",
    " Objective would be to push more functionality into this Class to enforce consistent definition\n",
    " */\n",
    "public abstract class Generics {\n",
    "\tpublic final String masterType = \"Generic\";\n",
    "\tprivate String type;\t// extender should define their data type\n",
    "\n",
    "\t// generic enumerated interface\n",
    "\tpublic interface KeyTypes {\n",
    "\t\tString name();\n",
    "\t}\n",
    "\tprotected abstract KeyTypes getKey();  \t// this method helps force usage of KeyTypes\n",
    "\n",
    "\t// getter\n",
    "\tpublic String getMasterType() {\n",
    "\t\treturn masterType;\n",
    "\t}\n",
    "\n",
    "\t// getter\n",
    "\tpublic String getType() {\n",
    "\t\treturn type;\n",
    "\t}\n",
    "\n",
    "\t// setter\n",
    "\tpublic void setType(String type) {\n",
    "\t\tthis.type = type;\n",
    "\t}\n",
    "\t\n",
    "\t// this method is smallSize to establish key order\n",
    "\tpublic abstract String toString();\n",
    "\n",
    "\t// static print method smallSize by extended classes\n",
    "\tpublic static void print(Generics[] objs) {\n",
    "\t\t// print 'Object' properties\n",
    "\t\t// System.out.println(objs.getClass() + \" \" + objs.length);\n",
    "\t\tSystem.out.println(objs.length);\n",
    "\n",
    "\t\t// print 'Generics' properties\n",
    "\t\tif (objs.length > 0) {\n",
    "\t\t\tGenerics obj = objs[0];\t// Look at properties of 1st element\n",
    "\t\t\tSystem.out.println(\n",
    "\t\t\t\t\tobj.getMasterType() + \": \" + \n",
    "\t\t\t\t\tobj.getType() +\n",
    "\t\t\t\t\t\" listed by \" +\n",
    "\t\t\t\t\tobj.getKey());\n",
    "\t\t}\n",
    "\n",
    "\t\t// print \"Generics: Objects'\n",
    "\t\tfor(Object o : objs)\t// observe that type is Opaque\n",
    "\t\t\tSystem.out.println(o);\n",
    "\n",
    "\t\tSystem.out.println();\n",
    "\t}\n",
    "}"
   ]
  },
  {
   "cell_type": "code",
   "execution_count": 29,
   "metadata": {
    "vscode": {
     "languageId": "java"
    }
   },
   "outputs": [
    {
     "name": "stdout",
     "output_type": "stream",
     "text": [
      "3\n",
      "Generic: Turtle listed by title\n",
      "Turtle: Shellbert, false, 5, 2.22\n",
      "Turtle: Eggbert, true, 4, 3.34\n",
      "Turtle: Seabert, true, 3, 6.54\n",
      "\n",
      "3\n",
      "Generic: Turtle listed by name\n",
      "Shellbert\n",
      "Eggbert\n",
      "Seabert\n",
      "\n",
      "3\n",
      "Generic: Turtle listed by weight\n",
      "2.22\n",
      "3.34\n",
      "6.54\n",
      "\n"
     ]
    }
   ],
   "source": [
    "public class Turtle extends Generics {\n",
    "\n",
    "    public static KeyTypes key = KeyType.title;\n",
    "\tpublic static void setOrder(KeyTypes key) { Turtle.key = key; }\n",
    "\tpublic enum KeyType implements KeyTypes {title, name, age, weight, smallSize}\n",
    "\n",
    "\tprivate final String name;\n",
    "\tprivate final int age;\n",
    "\tprivate final double weight;\n",
    "    private final boolean smallSize;\n",
    "\n",
    "\tpublic Turtle(String name, int age, double weight, boolean smallSize)\n",
    "\t{\n",
    "\t\tsuper.setType(\"Turtle\");\n",
    "\t\tthis.name = name;\n",
    "\t\tthis.age = age;\n",
    "\t\tthis.weight = weight;\n",
    "        this.smallSize = smallSize; \n",
    "\t}\n",
    "\n",
    "\t@Override\n",
    "\tprotected KeyTypes getKey() { return Turtle.key; }\n",
    "\t\n",
    "\n",
    "\t@Override\n",
    "\tpublic String toString()\n",
    "\t{\n",
    "\t\tString output=\"\";\n",
    "\t\tif (KeyType.name.equals(this.getKey())) {\n",
    "\t\t\toutput += this.name;\n",
    "\t\t} else if (KeyType.age.equals(this.getKey())) {\n",
    "\t\t\toutput += \"00\" + this.age;\n",
    "\t\t\toutput = output.substring(output.length() - 2);\n",
    "\t\t} else if (KeyType.weight.equals(this.getKey())) {\n",
    "\t\t\toutput += this.weight;\n",
    "\t\t} else if (KeyType.smallSize.equals(this.getKey())) {\n",
    "\t\t\toutput += this.smallSize;\n",
    "\t\t} else {\n",
    "\t\t\toutput += super.getType() + \": \" + this.name + \", \" + this.smallSize + \", \" + this.age + \", \" + this.weight;\n",
    "\t\t}\n",
    "\t\treturn output;\n",
    "\t\t\n",
    "\t}\n",
    "\n",
    "\t// Test data initializer\n",
    "\tpublic static Turtle[] Turtles() {\n",
    "\t\treturn new Turtle[]{\n",
    "\t\t\t\tnew Turtle(\"Shellbert\", 5, 2.22, false),\n",
    "\t\t\t\tnew Turtle(\"Eggbert\", 4, 3.34, true),\n",
    "\t\t\t\tnew Turtle(\"Seabert\", 3, 6.54, true)\t\t\n",
    "            };\n",
    "\t}\n",
    "\t\n",
    "\n",
    "\tpublic static void main(String[] args)\n",
    "\t{\n",
    "\t\t// Inheritance Hierarchy\n",
    "\t\tTurtle[] objs = Turtles();\n",
    "\n",
    "\t\t// print with title\n",
    "\t\tTurtle.setOrder(KeyType.title);\n",
    "\t\tTurtle.print(objs);\n",
    "\n",
    "\t\t// print name only\n",
    "\t\tTurtle.setOrder(KeyType.name);\n",
    "\t\tTurtle.print(objs);\n",
    "\n",
    "\t\t// print by weight only\n",
    "\t\tTurtle.setOrder(KeyType.weight);\n",
    "\t\tTurtle.print(objs);\n",
    "\t}\n",
    "\n",
    "}\n",
    "Turtle.main(null);"
   ]
  }
 ],
 "metadata": {
  "kernelspec": {
   "display_name": "Java",
   "language": "java",
   "name": "java"
  },
  "language_info": {
   "codemirror_mode": "java",
   "file_extension": ".jshell",
   "mimetype": "text/x-java-source",
   "name": "Java",
   "pygments_lexer": "java",
   "version": "11.0.17+8-post-Ubuntu-1ubuntu222.04"
  },
  "orig_nbformat": 4
 },
 "nbformat": 4,
 "nbformat_minor": 2
}
