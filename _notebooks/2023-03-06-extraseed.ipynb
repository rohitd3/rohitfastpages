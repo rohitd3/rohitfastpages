{
 "cells": [
  {
   "cell_type": "markdown",
   "metadata": {},
   "source": [
    "# Early Seed Award\n",
    "\n",
    "- toc: true \n",
    "- comments: false\n",
    "- categories: [java]"
   ]
  },
  {
   "cell_type": "code",
   "execution_count": 24,
   "metadata": {
    "vscode": {
     "languageId": "java"
    }
   },
   "outputs": [
    {
     "name": "stdout",
     "output_type": "stream",
     "text": [
      "10\n",
      "1\n",
      "11\n"
     ]
    }
   ],
   "source": [
    "static String add(int a1, int b1) {\n",
    "\n",
    "    String s1 = Integer.toString(a1);\n",
    "    String s2 = Integer.toString(b1);\n",
    "\n",
    "    int number0 = Integer.parseInt(s1, 2);\n",
    "    int number1 = Integer.parseInt(s2, 2);\n",
    "\n",
    "    int sum = number0 + number1;\n",
    "    String finalvalue = Integer.toBinaryString(sum);\n",
    "\n",
    "    return finalvalue;\n",
    "\n",
    "}\n",
    "\n",
    "System.out.println(add(1,1));\n",
    "System.out.println(add(0,1));\n",
    "System.out.println(add(1,10));\n"
   ]
  }
 ],
 "metadata": {
  "kernelspec": {
   "display_name": "Java",
   "language": "java",
   "name": "java"
  },
  "language_info": {
   "codemirror_mode": "java",
   "file_extension": ".jshell",
   "mimetype": "text/x-java-source",
   "name": "Java",
   "pygments_lexer": "java",
   "version": "17.0.5+8-Ubuntu-2ubuntu120.04"
  },
  "orig_nbformat": 4,
  "vscode": {
   "interpreter": {
    "hash": "916dbcbb3f70747c44a77c7bcd40155683ae19c65e1c03b4aa3499c5328201f1"
   }
  }
 },
 "nbformat": 4,
 "nbformat_minor": 2
}
