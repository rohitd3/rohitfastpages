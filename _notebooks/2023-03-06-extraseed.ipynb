{
 "cells": [
  {
   "attachments": {},
   "cell_type": "markdown",
   "metadata": {},
   "source": [
    "# Data Types\n",
    "\n",
    "- toc: true \n",
    "- comments: false\n",
    "- categories: [java]"
   ]
  },
  {
   "attachments": {},
   "cell_type": "markdown",
   "metadata": {},
   "source": [
    "### Early Seed Award"
   ]
  },
  {
   "cell_type": "code",
   "execution_count": 2,
   "metadata": {},
   "outputs": [
    {
     "name": "stdout",
     "output_type": "stream",
     "text": [
      "10\n",
      "1\n",
      "11\n",
      "111\n"
     ]
    }
   ],
   "source": [
    "static String add(int a1, int b1) {\n",
    "\n",
    "    String s1 = Integer.toString(a1);\n",
    "    String s2 = Integer.toString(b1);\n",
    "\n",
    "    int number0 = Integer.parseInt(s1, 2);\n",
    "    int number1 = Integer.parseInt(s2, 2);\n",
    "\n",
    "    int total = number0 + number1;\n",
    "    String finalvalue = Integer.toBinaryString(total);\n",
    "\n",
    "    return finalvalue;\n",
    "\n",
    "}\n",
    "\n",
    "System.out.println(add(1,1));\n",
    "System.out.println(add(0,1));\n",
    "System.out.println(add(1,10));\n",
    "System.out.println(add(1,110));\n"
   ]
  },
  {
   "cell_type": "markdown",
   "metadata": {},
   "source": [
    "### Start with some small code excercises\n",
    "Write a Jupyter notebook code example on the following primitive types with a code example (4 to 5 lines), preference would be using array and methods like substring and random as applicable: int, double, boolean, char.Now convert each of the examples to corresponding Wrapper classes, using arrays. Expression of these in Class or PBL forms is an option. But the review must be easy for me to see work.\n"
   ]
  },
  {
   "attachments": {},
   "cell_type": "markdown",
   "metadata": {},
   "source": [
    "## integer"
   ]
  },
  {
   "cell_type": "code",
   "execution_count": 3,
   "metadata": {},
   "outputs": [
    {
     "name": "stdout",
     "output_type": "stream",
     "text": [
      "integer:\n",
      "0: 36\n",
      "1: 99\n",
      "2: 87\n",
      "3: 0\n",
      "4: 95\n",
      "Sum: 317\n"
     ]
    }
   ],
   "source": [
    "// int\n",
    "System.out.println(\"integer:\");\n",
    "int[] intArray = new int[5];\n",
    "int sum = 0;\n",
    "for (int i = 0; i < intArray.length; i++) {\n",
    "    intArray[i] = (int) (Math.floor(Math.random() * 100));\n",
    "    System.out.println(i + \": \" + intArray[i]);\n",
    "    sum += intArray[i];\n",
    "}\n",
    "\n",
    "System.out.println(\"Sum: \" + sum);\n",
    "\n",
    "// Wrapper Class\n",
    "ArrayList<Integer> intArrayList = new ArrayList<>();\n",
    "for (int i : intArray){\n",
    "    intArrayList.add(new Integer(i));\n",
    "}"
   ]
  },
  {
   "attachments": {},
   "cell_type": "markdown",
   "metadata": {},
   "source": [
    "## double"
   ]
  },
  {
   "cell_type": "code",
   "execution_count": 6,
   "metadata": {},
   "outputs": [
    {
     "name": "stdout",
     "output_type": "stream",
     "text": [
      "Value 0 = 1.1\n",
      "Value 1 = 2.2\n",
      "Value 2 = 3.34\n",
      "Value 3 = 5.56\n"
     ]
    }
   ],
   "source": [
    "public class doubleArray {\n",
    "    public static void main(String[] args) {\n",
    "        // declare an array of doubles\n",
    "        double[] dubarray = {1.1, 2.2, 3.34, 5.56};\n",
    "        // print out the values of the array\n",
    "        for (int i = 0; i < dubarray.length; i++) {\n",
    "            System.out.println(\"Value \" + i + \" = \" + dubarray[i]); // loop through the array using a for loop and print out each element in the array. Note that we use the double primitive type to declare the array and assign values to it.\n",
    "        }\n",
    "    }\n",
    "}\n",
    "doubleArray.main(null);"
   ]
  },
  {
   "attachments": {},
   "cell_type": "markdown",
   "metadata": {},
   "source": [
    "## boolean"
   ]
  },
  {
   "cell_type": "code",
   "execution_count": 13,
   "metadata": {},
   "outputs": [
    {
     "name": "stdout",
     "output_type": "stream",
     "text": [
      "Shellby is a tortoise\n"
     ]
    }
   ],
   "source": [
    "public class isatortoise {\n",
    "    public static void main(String[] args) {  \n",
    "        boolean tortoise = true;\n",
    "\n",
    "        if(tortoise == true){\n",
    "            System.out.println(\"Shellby is a tortoise\");\n",
    "        }\n",
    "        else{\n",
    "            System.out.println(\"Shellby is an aquatic turtle\");\n",
    "        }\n",
    "\n",
    "    }\n",
    "}\n",
    "\n",
    "isatortoise.main(null);"
   ]
  },
  {
   "attachments": {},
   "cell_type": "markdown",
   "metadata": {},
   "source": [
    "## char"
   ]
  },
  {
   "cell_type": "code",
   "execution_count": 18,
   "metadata": {},
   "outputs": [
    {
     "name": "stdout",
     "output_type": "stream",
     "text": [
      "The random letter is d\n"
     ]
    }
   ],
   "source": [
    "import java.util.Random;\n",
    "\n",
    "public class charalphabets {\n",
    "    public static void main(String[] args) {\n",
    "        Random rand = new Random(); // create random object to generate random number\n",
    "        char[] alphabets = {'a', 'b', 'c', 'd', 'e'};\n",
    "        char randomletter = alphabets[rand.nextInt(alphabets.length)]; // next Int method of the rand object generates a random integer that retrieves a random vowel\n",
    "\n",
    "        System.out.println(\"The random letter is \" + randomletter);\n",
    "    }\n",
    "}\n",
    "charalphabets.main(null);"
   ]
  },
  {
   "attachments": {},
   "cell_type": "markdown",
   "metadata": {},
   "source": [
    "What are methods?\n",
    "\n",
    "- In Java, a method is a block of code that, when called, executes the specified tasks listed in it. Consider a method as a little program that performs operations on data and might or might not return a value. Each technique has a unique name.\n",
    "\n",
    "What are control structures?\n",
    "\n",
    "- A block of code known as a control structure allows us to alter the course that those instructions take. Conditional branches, loops, and branching statements are the three types. Java has control structures that can alter the course of execution and manage how instructions are carried out.\n",
    "\n",
    "What FRQ did you explore?\n",
    "\n",
    "- 2016 FRQ 1"
   ]
  },
  {
   "attachments": {},
   "cell_type": "markdown",
   "metadata": {},
   "source": [
    "### Exploring Mr. M's code"
   ]
  },
  {
   "attachments": {},
   "cell_type": "markdown",
   "metadata": {},
   "source": [
    "Diverse Array\n",
    "- Contains methods and control structures\n",
    "- Multiple control structures\n",
    "  - For\n",
    "  - While\n",
    "  - If statements\n",
    "\n",
    "- Because it contains arrays, a data type, it falls under the category of data types.\n",
    "- The majority of code segments, regardless of what they are on, deal with methods and control structures.\n",
    "\n",
    "Random\n",
    "\n",
    "- Gives value between 0 and 1\n",
    "- Double a Math.random value and add 7 to it if you want a random number between 7 and 9.\n",
    "\n",
    "Do nothing by value\n",
    "- As a result of changing the subvalue rather than the variable's real value, you are essentially modifying the variable but it does not actually change.\n",
    "\n",
    "Int by Reference\n",
    "\n",
    "- Despite the fact that you are acting locally, the int changes its value.\n",
    "- Essentially states that there is a workaround for the issue that local variable editing is not possible.\n",
    "\n",
    "Menu\n",
    " - Use of Try, Catch, and Runnable to regulate program execution"
   ]
  },
  {
   "cell_type": "code",
   "execution_count": null,
   "metadata": {},
   "outputs": [],
   "source": [
    "package com.nighthawk.hacks.methodsDataTypes;\n",
    "\n",
    "import java.util.HashMap;\n",
    "import java.util.Map;\n",
    "import java.util.Scanner;\n",
    "\n",
    "/**\n",
    " * Menu: custom implementation\n",
    " * @author     John Mortensen\n",
    " *\n",
    " * Uses String to contain Title for an Option\n",
    " * Uses Runnable to store Class-Method to be run when Title is selected\n",
    " */\n",
    "\n",
    "// The Menu Class has a HashMap of Menu Rows\n",
    "public class Menu {\n",
    "    // Format\n",
    "    // Key {0, 1, 2, ...} created based on order of input menu\n",
    "    // Value {MenuRow0, MenuRow1, MenuRow2,...} each corresponds to key\n",
    "    // MenuRow  {<Exit,Noop>, Option1, Option2, ...}\n",
    "    Map<Integer, MenuRow> menu = new HashMap<>();\n",
    "\n",
    "    /**\n",
    "     *  Constructor for Menu,\n",
    "     *\n",
    "     * @param  rows,  is the row data for menu.\n",
    "     */\n",
    "    public Menu(MenuRow[] rows) {\n",
    "        int i = 0;\n",
    "        for (MenuRow row : rows) {\n",
    "            // Build HashMap for lookup convenience\n",
    "            menu.put(i++, new MenuRow(row.getTitle(), row.getAction()));\n",
    "        }\n",
    "    }\n",
    "\n",
    "    /**\n",
    "     *  Get Row from Menu,\n",
    "     *\n",
    "     * @param  i,  HashMap key (k)\n",
    "     *\n",
    "     * @return  MenuRow, the selected menu\n",
    "     */\n",
    "    public MenuRow get(int i) {\n",
    "        return menu.get(i);\n",
    "    }\n",
    "\n",
    "    /**\n",
    "     *  Iterate through and print rows in HashMap\n",
    "     */\n",
    "    public void print() {\n",
    "        for (Map.Entry<Integer, MenuRow> pair : menu.entrySet()) {\n",
    "            System.out.println(pair.getKey() + \" ==> \" + pair.getValue().getTitle());\n",
    "        }\n",
    "    }\n",
    "\n",
    "    /**\n",
    "     *  To test run Driver\n",
    "     */\n",
    "    public static void main(String[] args) {\n",
    "        Driver.main(args);\n",
    "    }\n",
    "\n",
    "}\n",
    "\n",
    "// The MenuRow Class has title and action for individual line item in menu\n",
    "class MenuRow {\n",
    "    String title;       // menu item title\n",
    "    Runnable action;    // menu item action, using Runnable\n",
    "\n",
    "    /**\n",
    "     *  Constructor for MenuRow,\n",
    "     *\n",
    "     * @param  title,  is the description of the menu item\n",
    "     * @param  action, is the run-able action for the menu item\n",
    "     */\n",
    "    public MenuRow(String title, Runnable action) {\n",
    "        this.title = title;\n",
    "        this.action = action;\n",
    "    }\n",
    "\n",
    "    /**\n",
    "     *  Getters\n",
    "     */\n",
    "    public String getTitle() {\n",
    "        return this.title;\n",
    "    }\n",
    "    public Runnable getAction() {\n",
    "        return this.action;\n",
    "    }\n",
    "\n",
    "    /**\n",
    "     *  Runs the action using Runnable (.run)\n",
    "     */\n",
    "    public void run() {\n",
    "        action.run();\n",
    "    }\n",
    "}\n",
    "\n",
    "// The Main Class illustrates initializing and using Menu with Runnable action\n",
    "class Driver {\n",
    "    /**\n",
    "     *  Menu Control Example\n",
    "     */\n",
    "    public static void main(String[] args) {\n",
    "        // Row initialize\n",
    "        MenuRow[] rows = new MenuRow[]{\n",
    "            // lambda style, () -> to point to Class.Method\n",
    "            new MenuRow(\"Exit\", () -> main(null)),\n",
    "            new MenuRow(\"Do Nothing\", () -> DoNothingByValue.main(null)),\n",
    "            new MenuRow(\"Swap if Hi-Low\", () -> IntByReference.main(null)),\n",
    "            new MenuRow(\"Matrix Reverse\", () -> Matrix.main(null)),\n",
    "            new MenuRow(\"Diverse Array\", () -> Matrix.main(null)),\n",
    "            new MenuRow(\"Random Squirrels\", () -> Number.main(null))\n",
    "        };\n",
    "\n",
    "        // Menu construction\n",
    "        Menu menu = new Menu(rows);\n",
    "\n",
    "        // Run menu forever, exit condition contained in loop\n",
    "        while (true) {\n",
    "            System.out.println(\"Hacks Menu:\");\n",
    "            // print rows\n",
    "            menu.print();\n",
    "\n",
    "            // Scan for input\n",
    "            try {\n",
    "                Scanner scan = new Scanner(System.in);\n",
    "                int selection = scan.nextInt();\n",
    "\n",
    "                // menu action\n",
    "                try {\n",
    "                    MenuRow row = menu.get(selection);\n",
    "                    // stop menu\n",
    "                    if (row.getTitle().equals(\"Exit\")) {\n",
    "                        if (scan != null) \n",
    "                            scan.close();  // scanner resource requires release\n",
    "                        return;\n",
    "                    }\n",
    "                    // run option\n",
    "                    row.run();\n",
    "                } catch (Exception e) {\n",
    "                    System.out.printf(\"Invalid selection %d\\n\", selection);\n",
    "                }\n",
    "\n",
    "            } catch (Exception e) {\n",
    "                System.out.println(\"Not a number\");\n",
    "            }\n",
    "        }\n",
    "    }"
   ]
  },
  {
   "attachments": {},
   "cell_type": "markdown",
   "metadata": {},
   "source": [
    "### 2016 FRQ Part 1"
   ]
  },
  {
   "cell_type": "code",
   "execution_count": 29,
   "metadata": {},
   "outputs": [],
   "source": [
    "// PART A\n",
    "\n",
    "public class RandomStringChooser {\n",
    "    private ArrayList<String> words;\n",
    "    \n",
    "    public RandomStringChooser(String[] wordArray) {\n",
    "        words = new ArrayList<String>();\n",
    "        for (String w : wordArray)\n",
    "            words.add(w);\n",
    "        }\n",
    "    public String getNext()\n",
    "    {\n",
    "    if (words.size() == 0)\n",
    "        return \"NONE\";\n",
    "    int i = (int)(Math.random() * words.size());\n",
    "    return words.remove(i);\n",
    "    }\n",
    "}\n",
    "\n",
    "// PART B\n",
    "\n",
    "public RandomLetterChooser(String str) {\n",
    "    super(getSingleLetters(str));\n",
    "}"
   ]
  }
 ],
 "metadata": {
  "kernelspec": {
   "display_name": "Java",
   "language": "java",
   "name": "java"
  },
  "language_info": {
   "codemirror_mode": "java",
   "file_extension": ".jshell",
   "mimetype": "text/x-java-source",
   "name": "java",
   "pygments_lexer": "java",
   "version": "17.0.5+8-Ubuntu-2ubuntu120.04"
  },
  "orig_nbformat": 4,
  "vscode": {
   "interpreter": {
    "hash": "916dbcbb3f70747c44a77c7bcd40155683ae19c65e1c03b4aa3499c5328201f1"
   }
  }
 },
 "nbformat": 4,
 "nbformat_minor": 2
}
