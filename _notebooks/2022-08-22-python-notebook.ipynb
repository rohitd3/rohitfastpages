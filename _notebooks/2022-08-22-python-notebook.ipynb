{
 "cells": [
  {
   "cell_type": "markdown",
   "metadata": {},
   "source": [
    "# Hello World in Python!\n",
    "> this is the first python post 🐍🐍\n",
    "\n",
    "- toc: false \n",
    "- comments: true\n",
    "- categories: [python]\n",
    "- image: images/helloworldpy.png"
   ]
  },
  {
   "cell_type": "code",
   "execution_count": 1,
   "metadata": {},
   "outputs": [
    {
     "name": "stdout",
     "output_type": "stream",
     "text": [
      "hello world\n"
     ]
    }
   ],
   "source": [
    "print('hello world')"
   ]
  },
  {
   "cell_type": "markdown",
   "metadata": {},
   "source": [
    "# List and Loops from CSP Tri 3"
   ]
  },
  {
   "cell_type": "code",
   "execution_count": 6,
   "metadata": {},
   "outputs": [
    {
     "name": "stdout",
     "output_type": "stream",
     "text": [
      "For loop with range:\n",
      "Movie Name: Star Wars: The Force Awakens Year: 2015 Rating:  4\n",
      "\t Actors in the movie: Daisy Ridley, John Boyega, Harrison Ford, Adam Driver\n",
      "\n",
      "Movie Name: Toy Story Year: 1995 Rating:  5\n",
      "\t Actors in the movie: Tom Hanks, Laurie Metcalf, Ernie Sabella, Nathan Lane\n",
      "\n",
      "For loop\n",
      "Movie Name: Spider-Man: No Way Home Year: 2021 Rating:  5\n",
      "\t Actors in the movie: Tom Holland, Tobey Maguire, Zendaya, Andrew Garfield, Marisa Tomei\n",
      "\n",
      "Movie Name: Star Wars: The Force Awakens Year: 2015 Rating:  4\n",
      "\t Actors in the movie: Daisy Ridley, John Boyega, Harrison Ford, Adam Driver\n",
      "\n",
      "Movie Name: Toy Story Year: 1995 Rating:  5\n",
      "\t Actors in the movie: Tom Hanks, Laurie Metcalf, Ernie Sabella, Nathan Lane\n",
      "\n",
      "While loop\n",
      "Movie Name: Spider-Man: No Way Home Year: 2021 Rating:  5\n",
      "\t Actors in the movie: Tom Holland, Tobey Maguire, Zendaya, Andrew Garfield, Marisa Tomei\n",
      "\n",
      "Movie Name: Star Wars: The Force Awakens Year: 2015 Rating:  4\n",
      "\t Actors in the movie: Daisy Ridley, John Boyega, Harrison Ford, Adam Driver\n",
      "\n",
      "Movie Name: Toy Story Year: 1995 Rating:  5\n",
      "\t Actors in the movie: Tom Hanks, Laurie Metcalf, Ernie Sabella, Nathan Lane\n",
      "\n",
      "Recursive loop\n",
      "Movie Name: Spider-Man: No Way Home Year: 2021 Rating:  5\n",
      "\t Actors in the movie: Tom Holland, Tobey Maguire, Zendaya, Andrew Garfield, Marisa Tomei\n",
      "\n",
      "Movie Name: Star Wars: The Force Awakens Year: 2015 Rating:  4\n",
      "\t Actors in the movie: Daisy Ridley, John Boyega, Harrison Ford, Adam Driver\n",
      "\n",
      "Movie Name: Toy Story Year: 1995 Rating:  5\n",
      "\t Actors in the movie: Tom Hanks, Laurie Metcalf, Ernie Sabella, Nathan Lane\n",
      "\n"
     ]
    }
   ],
   "source": [
    "InfoDb = []\n",
    "# List with dictionary records placed in a list\n",
    "InfoDb.append({\n",
    "    \"MovieName\":\n",
    "    \"Spider-Man: No Way Home\",\n",
    "    \"MovieYear\":\n",
    "    \"2021\",\n",
    "    \"Rating\":\n",
    "    \"5\",\n",
    "    \"Actors\": [\n",
    "        \"Tom Holland\", \"Tobey Maguire\", \"Zendaya\", \"Andrew Garfield\",\n",
    "        \"Marisa Tomei\"\n",
    "    ]\n",
    "})\n",
    "\n",
    "InfoDb.append({\n",
    "    \"MovieName\":\n",
    "    \"Star Wars: The Force Awakens\",\n",
    "    \"MovieYear\":\n",
    "    \"2015\",\n",
    "    \"Rating\":\n",
    "    \"4\",\n",
    "    \"Actors\": [\"Daisy Ridley\", \"John Boyega\", \"Harrison Ford\", \"Adam Driver\"]\n",
    "})\n",
    "\n",
    "InfoDb.append({\n",
    "    \"MovieName\":\n",
    "    \"Toy Story\",\n",
    "    \"MovieYear\":\n",
    "    \"1995\",\n",
    "    \"Rating\":\n",
    "    \"5\",\n",
    "    \"Actors\": [\"Tom Hanks\", \"Laurie Metcalf\", \"Ernie Sabella\", \"Nathan Lane\"]\n",
    "})\n",
    "\n",
    "\n",
    "def print_data(n):\n",
    "    print(\"Movie Name:\", InfoDb[n][\"MovieName\"], \"Year:\", InfoDb[n][\"MovieYear\"], \"Rating: \",InfoDb[n][\"Rating\"]  )  # using comma puts space between values\n",
    "    print(\"\\t\", \"Actors in the movie: \", end=\"\")  # \\t is a tab indent, end=\"\" make sure no return occurs\n",
    "    print(\", \".join(InfoDb[n][\"Actors\"]))  # join allows printing a string list with separator\n",
    "    print()\n",
    "\n",
    "\n",
    "def tester():\n",
    "    print(\"For loop with range:\")\n",
    "    for_loop_limit(1,2)\n",
    "    print(\"For loop\")\n",
    "    for_loop()\n",
    "    print(\"While loop\")\n",
    "    while_loop(0)  # requires initial index to start while\n",
    "    print(\"Recursive loop\")\n",
    "    recursive_loop(0)  # requires initial index to start recursion\n",
    "\n",
    "\n",
    "# for loop iterates on length of InfoDb\n",
    "def for_loop():\n",
    "    for n in range(len(InfoDb)):\n",
    "        print_data(n)\n",
    "\n",
    "def for_loop_limit(start, end):\n",
    "    for n in range(start, end+1):\n",
    "        print_data(n)\n",
    "      \n",
    "# while loop contains an initial n and an index incrementing statement (n += 1)\n",
    "# dont need to write n = 0 because it being called in the tester\n",
    "def while_loop(n):\n",
    "    while n < len(InfoDb):\n",
    "        print_data(n)\n",
    "        n += 1\n",
    "    return\n",
    "\n",
    "# recursion simulates loop incrementing on each call (n + 1) until exit condition is met\n",
    "def recursive_loop(n):\n",
    "    if n < len(InfoDb):\n",
    "        print_data(n)\n",
    "        recursive_loop(n + 1)\n",
    "    return # exit condition\n",
    "\n",
    "if __name__ == \"__main__\":\n",
    "  tester()"
   ]
  }
 ],
 "metadata": {
  "kernelspec": {
   "display_name": "Java",
   "language": "java",
   "name": "java"
  },
  "language_info": {
   "codemirror_mode": "java",
   "file_extension": ".jshell",
   "mimetype": "text/x-java-source",
   "name": "java",
   "pygments_lexer": "java",
   "version": "11.0.16+8-post-Ubuntu-0ubuntu120.04"
  },
  "varInspector": {
   "cols": {
    "lenName": 16,
    "lenType": 16,
    "lenVar": 40
   },
   "kernels_config": {
    "python": {
     "delete_cmd_postfix": "",
     "delete_cmd_prefix": "del ",
     "library": "var_list.py",
     "varRefreshCmd": "print(var_dic_list())"
    },
    "r": {
     "delete_cmd_postfix": ") ",
     "delete_cmd_prefix": "rm(",
     "library": "var_list.r",
     "varRefreshCmd": "cat(var_dic_list()) "
    }
   },
   "types_to_exclude": [
    "module",
    "function",
    "builtin_function_or_method",
    "instance",
    "_Feature"
   ],
   "window_display": false
  },
  "vscode": {
   "interpreter": {
    "hash": "31f2aee4e71d21fbe5cf8b01ff0e069b9275f58929596ceb00d14d90e3e16cd6"
   }
  }
 },
 "nbformat": 4,
 "nbformat_minor": 4
}
