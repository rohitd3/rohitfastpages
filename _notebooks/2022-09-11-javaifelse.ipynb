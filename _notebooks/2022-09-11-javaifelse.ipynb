{
 "cells": [
  {
   "cell_type": "markdown",
   "metadata": {},
   "source": [
    "# if else loops in java\n",
    "\n",
    "- toc: false \n",
    "- comments: true\n",
    "- categories: [java]\n",
    "- image: images/ghostbusterifelse.png"
   ]
  },
  {
   "cell_type": "code",
   "execution_count": 24,
   "metadata": {
    "vscode": {
     "languageId": "java"
    }
   },
   "outputs": [],
   "source": [
    "import java.util.Scanner;"
   ]
  },
  {
   "cell_type": "code",
   "execution_count": 16,
   "metadata": {
    "vscode": {
     "languageId": "java"
    }
   },
   "outputs": [],
   "source": [
    "public class ifelse {\n",
    "    int number;\n",
    "\n",
    "    int remainder() {\n",
    "        int rem = (number%2);\n",
    "        System.out.println(\"Remainder: \" + rem);\n",
    "\n",
    "\n",
    "        if( rem == 0) {\n",
    "            System.out.println(\"Even\");\n",
    "        } else {\n",
    "            System.out.println(\"Odd\");  \n",
    "        }\n",
    "        return rem;\n",
    "       \n",
    "    }\n",
    "\n",
    "    public ifelse(int n) {\n",
    "        System.out.println(\"Number entered: \" + n);\n",
    "        number = n;   \n",
    "    }\n",
    "}"
   ]
  },
  {
   "cell_type": "code",
   "execution_count": 20,
   "metadata": {
    "vscode": {
     "languageId": "java"
    }
   },
   "outputs": [],
   "source": [
    "public class gradeifelse {\n",
    "\n",
    "    double grade;\n",
    "\n",
    "    double finalgrade() {\n",
    "        if ( grade >= 90) {\n",
    "            System.out.println(\"A\");\n",
    "        } else if( grade >= 80 && grade < 90) {\n",
    "            System.out.println(\"B\");\n",
    "        } else if( grade >= 70 && grade < 80) {\n",
    "            System.out.println(\"C\");\n",
    "        } else if( grade >= 60 && grade < 70) {\n",
    "            System.out.println(\"D\");\n",
    "        } else if( grade >= 0 && grade < 60) {\n",
    "            System.out.println(\"F\");\n",
    "        } else {\n",
    "            System.out.println(\"Not within range\");\n",
    "        }\n",
    "\n",
    "        return grade;\n",
    "    }\n",
    "    \n",
    "    public gradeifelse(double n) {\n",
    "        System.out.println(\"Grade entered: \" + n);\n",
    "        grade = n;\n",
    "    }\n",
    "\n",
    "}"
   ]
  },
  {
   "cell_type": "code",
   "execution_count": 24,
   "metadata": {
    "vscode": {
     "languageId": "java"
    }
   },
   "outputs": [
    {
     "name": "stdout",
     "output_type": "stream",
     "text": [
      "-------------------------\n",
      "\n",
      "Choose from these choices\n",
      "-------------------------\n",
      "\n",
      "1 - Even or Odd\n",
      "2 - Grade\n",
      "0 - Quit\n",
      "-------------------------\n",
      "\n",
      "1: \n",
      "Enter number: \n",
      "Number entered: 95\n",
      "Remainder: 1\n",
      "Odd\n",
      "\u001b[0m\n",
      "2: \n",
      "Enter grade: \n",
      "Grade entered: 69.0\n",
      "D\n",
      "\u001b[0m\n",
      "2: \n",
      "Enter grade: \n",
      "Grade entered: 98.0\n",
      "A\n",
      "\u001b[0m\n",
      "0: \n",
      "Goodbye, World!\u001b[0m\n"
     ]
    }
   ],
   "source": [
    "public class Menu {\n",
    "    // Instance Variables\n",
    "    public final String DEFAULT = \"\\u001B[0m\";  // Default Terminal Color\n",
    "    public final String[][] COLORS = { // 2D Array of ANSI Terminal Colors\n",
    "        {\"Default\",DEFAULT},\n",
    "        {\"Red\", \"\\u001B[31m\"}, \n",
    "        {\"Green\", \"\\u001B[32m\"}, \n",
    "        {\"Yellow\", \"\\u001B[33m\"}, \n",
    "        {\"Blue\", \"\\u001B[34m\"}, \n",
    "        {\"Purple\", \"\\u001B[35m\"}, \n",
    "        {\"Cyan\", \"\\u001B[36m\"}, \n",
    "        {\"White\", \"\\u001B[37m\"}, \n",
    "    };\n",
    "    // 2D column location for data\n",
    "    public final int NAME = 0;\n",
    "    public final int ANSI = 1;  // ANSI is the \"standard\" for terminal codes\n",
    "    Scanner sc; // available to all inside the menu class\n",
    "    // Constructor on this Object takes control of menu events and actions\n",
    "    public Menu() {\n",
    "        sc = new Scanner(System.in);  // using Java Scanner Object\n",
    "        \n",
    "        this.print();  // print Menu\n",
    "        boolean quit = false;\n",
    "        while (!quit) {\n",
    "            try {  // scan for Input\n",
    "                int choice = sc.nextInt();  // using method from Java Scanner Object\n",
    "                System.out.println(\"\" + choice + \": \");\n",
    "                quit = this.action(choice);  // take action\n",
    "            } catch (Exception e) {\n",
    "                sc.nextLine(); // error: clear buffer\n",
    "                System.out.println(e + \": Not a number, try again.\");\n",
    "            }\n",
    "        }\n",
    "        sc.close();\n",
    "    }\n",
    "\n",
    "    // Print the menu options to Terminal\n",
    "    private void print() {\n",
    "        //System.out.println commands below is used to present a Menu to the user. \n",
    "        System.out.println(\"-------------------------\\n\");\n",
    "        System.out.println(\"Choose from these choices\");\n",
    "        System.out.println(\"-------------------------\\n\");\n",
    "        System.out.println(\"1 - Even or Odd\");\n",
    "        System.out.println(\"2 - Grade\");\n",
    "        System.out.println(\"0 - Quit\");\n",
    "        System.out.println(\"-------------------------\\n\");\n",
    "    }\n",
    "\n",
    "    // Private method to perform action and return true if action is to quit/exit\n",
    "    private boolean action(int selection) {\n",
    "        boolean quit = false;\n",
    "\n",
    "\n",
    "        switch (selection) {  // Switch or Switch/Case is Control Flow statement and is used to evaluate the user selection\n",
    "            case 0:  \n",
    "                System.out.print(\"Goodbye, World!\");\n",
    "                quit = true;\n",
    "                break;\n",
    "            case 1:\n",
    "                System.out.println(\"Enter number: \");\n",
    "                int n = sc.nextInt();\n",
    "                ifelse mynumber = new ifelse(n);\n",
    "                mynumber.remainder();\n",
    "                break;\n",
    "            case 2:\n",
    "                System.out.println(\"Enter grade: \");\n",
    "                double g = sc.nextDouble();\n",
    "                gradeifelse mygrade = new gradeifelse(g);\n",
    "                mygrade.finalgrade();\n",
    "                break;  \n",
    "\n",
    "                    \n",
    "            default:\n",
    "                //Prints error message from console\n",
    "                System.out.print(\"Unexpected choice, try again.\");\n",
    "        }\n",
    "        System.out.println(DEFAULT);  // make sure to reset color and provide new line\n",
    "        return quit;\n",
    "    }\n",
    "\n",
    "    // Static driver/tester method\n",
    "    static public void main(String[] args)  {  \n",
    "        new Menu(); // starting Menu object\n",
    "    }\n",
    "\n",
    "}\n",
    "Menu.main(null);"
   ]
  }
 ],
 "metadata": {
  "kernelspec": {
   "display_name": "Java",
   "language": "java",
   "name": "java"
  },
  "language_info": {
   "codemirror_mode": "java",
   "file_extension": ".jshell",
   "mimetype": "text/x-java-source",
   "name": "Java",
   "pygments_lexer": "java",
   "version": "11.0.16+8-post-Ubuntu-0ubuntu120.04"
  }
 },
 "nbformat": 4,
 "nbformat_minor": 2
}
