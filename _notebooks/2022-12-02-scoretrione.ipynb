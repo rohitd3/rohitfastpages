{
 "cells": [
  {
   "cell_type": "markdown",
   "metadata": {},
   "source": [
    "# Unit 1-5 Lesson Score\n",
    "\n",
    "- toc: true \n",
    "- comments: false\n",
    "- categories: [entry]"
   ]
  },
  {
   "cell_type": "markdown",
   "metadata": {},
   "source": [
    "| Unit | Score | Grading | Comments |\n",
    "| --- | --- | --- | --- |\n",
    "| Unit 1 | 0.9/1 | [Link](https://docs.google.com/spreadsheets/d/1LG6lYp17hDaXROLX8L0f7-3NXGY8P1KYTAbHTg4vuVg/edit#gid=0) | N/A |\n",
    "| Unit 2 | 0.95/1 | [Link](https://kar722.github.io/fastpages/markdown/2022/11/29/Grading.html) | Standard Answers yet a seemlingly perfect blog |\n",
    "| Unit 3 | 0.9/1 | [Link](https://riya-patil.github.io/Riya-Patil-APCSA/2022/12/01/Unit3-Grading-(3).html) | Completed exercises, not FRQ |\n",
    "| Unit 4 | 0.9/1| [Link](https://docs.google.com/spreadsheets/d/1ZdxY0y2xNr3ucfgGALu0natnx74QOfdhiWjEnxHkx6c/edit#gid=0) | N/A | \n",
    "| Unit 5 | 1/1|[Link](https://docs.google.com/spreadsheets/d/1aFZm759u2tpGNjJ7zaB753t2nwZ4bEZ88p9NMF37k2c/edit#gid=0)| N/A |\n",
    "| TOTAL SCORE | 4.65/5| | |"
   ]
  }
 ],
 "metadata": {
  "kernelspec": {
   "display_name": "Java",
   "language": "java",
   "name": "java"
  },
  "language_info": {
   "name": "java",
   "version": "3.8.10"
  },
  "orig_nbformat": 4,
  "vscode": {
   "interpreter": {
    "hash": "916dbcbb3f70747c44a77c7bcd40155683ae19c65e1c03b4aa3499c5328201f1"
   }
  }
 },
 "nbformat": 4,
 "nbformat_minor": 2
}
