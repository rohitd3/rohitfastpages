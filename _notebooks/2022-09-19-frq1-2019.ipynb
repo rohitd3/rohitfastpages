{
 "cells": [
  {
   "attachments": {},
   "cell_type": "markdown",
   "metadata": {},
   "source": [
    "# 2019 FRQ #1\n",
    "\n",
    "- toc: false \n",
    "- comments: true\n",
    "- categories: [cb]"
   ]
  },
  {
   "cell_type": "markdown",
   "metadata": {},
   "source": [
    "![image](https://user-images.githubusercontent.com/44128572/191179603-759e9008-2603-4b77-91bf-661766c7125a.png)"
   ]
  },
  {
   "cell_type": "markdown",
   "metadata": {},
   "source": [
    "![image](https://user-images.githubusercontent.com/44128572/191179702-14167e58-cf62-46e0-8fe2-63c6085a5368.png)\n"
   ]
  },
  {
   "cell_type": "code",
   "execution_count": null,
   "metadata": {},
   "outputs": [],
   "source": [
    "public static int numberOfLeapYears(int year1, int year2)\n",
    "{\n",
    "    int yearcounter = 0;\n",
    "        for (int y = year1; y <= year2; y++) {\n",
    "            if (isLeapYear(y)) {\n",
    "                yearcounter++;\n",
    "            }\n",
    "        }\n",
    "    return yearcounter;\n",
    "}"
   ]
  },
  {
   "cell_type": "markdown",
   "metadata": {},
   "source": [
    "![image](https://user-images.githubusercontent.com/44128572/191179740-d161cf06-a0ac-48c9-bb7e-1fbf4d28cbc0.png)\n"
   ]
  },
  {
   "cell_type": "markdown",
   "metadata": {},
   "source": [
    "![image](https://user-images.githubusercontent.com/44128572/191179797-002b9296-87a4-4c56-8b6d-7a16dad2f54b.png)"
   ]
  },
  {
   "cell_type": "code",
   "execution_count": null,
   "metadata": {},
   "outputs": [],
   "source": [
    "public static int dayOfWeek(int month, int day, int year) {\n",
    "    int firstDay = firstDayOfYear(year);\n",
    "    int someDay = dayOfYear(month, day, year);\n",
    "    int result = (firstDay + someDay - 1) % 7;\n",
    "    return result\n",
    "}"
   ]
  },
  {
   "cell_type": "code",
   "execution_count": null,
   "metadata": {},
   "outputs": [],
   "source": [
    "public class APCalendar{\n",
    "    /** Returns true if year is a leap year and false otherwise. */\n",
    "    private static boolean isLeapYear(int year)\n",
    "    { /* implementation not shown */ }\n",
    "    /** Returns the number of leap years between year1 and year2, inclusive.\n",
    "     * Precondition: 0 <= year1 <= year2\n",
    "     */\n",
    "    public static int numberOfLeapYears(int year1, int year2)\n",
    "    {\n",
    "        int yearcounter = 0;\n",
    "            for (int y = year1; y <= year2; y++) {\n",
    "                if (isLeapYear(y)) {\n",
    "                    yearcounter++;\n",
    "                }\n",
    "            }\n",
    "        return yearcounter;\n",
    "    }\n",
    "    /** Returns the value representing the day of the week for the first day of year,\n",
    "     * where 0 denotes Sunday, 1 denotes Monday, ..., and 6 denotes Saturday.\n",
    "     */\n",
    "    private static int firstDayOfYear(int year)\n",
    "    { /* implementation not shown */ }\n",
    "    /** Returns n, where month, day, and year specify the nth day of the year.\n",
    "     * Returns 1 for January 1 (month = 1, day = 1) of any year.\n",
    "     * Precondition: The date represented by month, day, year is a valid date.\n",
    "     */\n",
    "    private static int dayOfYear(int month, int day, int year)\n",
    "    { /* implementation not shown */ }\n",
    "    /** Returns the value representing the day of the week for the given date\n",
    "     * (month, day, year), where 0 denotes Sunday, 1 denotes Monday, ...,\n",
    "     * and 6 denotes Saturday.\n",
    "     * Precondition: The date represented by month, day, year is a valid date.\n",
    "     */\n",
    "    public static int dayOfWeek(int month, int day, int year) {\n",
    "        int firstDay = firstDayOfYear(year);\n",
    "        int someDay = dayOfYear(month, day, year);\n",
    "        int result = (firstDay + someDay - 1) % 7;\n",
    "        return result\n",
    "    }\n",
    "    // There may be instance variables, constructors, and other methods not shown.\n",
    "}"
   ]
  }
 ],
 "metadata": {
  "kernelspec": {
   "display_name": "Java",
   "language": "java",
   "name": "java"
  },
  "language_info": {
   "name": "java"
  },
  "orig_nbformat": 4
 },
 "nbformat": 4,
 "nbformat_minor": 2
}
