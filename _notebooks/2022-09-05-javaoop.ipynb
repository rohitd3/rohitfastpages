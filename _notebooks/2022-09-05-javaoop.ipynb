{
 "cells": [
  {
   "cell_type": "markdown",
   "metadata": {},
   "source": [
    "# documentation and analysis of oop\n",
    "> documentation 📝🥪\n",
    "\n",
    "- toc: true \n",
    "- comments: true\n",
    "- badges: true\n",
    "- categories: [java]\n",
    "- image: images/javaobjext.png"
   ]
  },
  {
   "cell_type": "markdown",
   "metadata": {},
   "source": [
    "# Completion of OOP in code.org\n",
    "\n",
    "![avojeffrohit](https://user-images.githubusercontent.com/44128572/188678698-a2a65a4c-ff1f-4b9f-965c-97c7eb240d50.png)\n"
   ]
  },
  {
   "cell_type": "markdown",
   "metadata": {},
   "source": [
    "A class is defined when variables, objects or methods are added to the code."
   ]
  },
  {
   "cell_type": "code",
   "execution_count": null,
   "metadata": {},
   "outputs": [],
   "source": [
    "public class MyNeighborhood {\n",
    "    // where the objects and methods go\n",
    "}"
   ]
  },
  {
   "cell_type": "markdown",
   "metadata": {},
   "source": [
    "instance of an object of the "
   ]
  },
  {
   "cell_type": "code",
   "execution_count": null,
   "metadata": {},
   "outputs": [],
   "source": [
    "Painter myPainter = new Painter();"
   ]
  },
  {
   "cell_type": "markdown",
   "metadata": {},
   "source": [
    "class calls the main method to execute"
   ]
  },
  {
   "cell_type": "code",
   "execution_count": null,
   "metadata": {},
   "outputs": [],
   "source": [
    "Menu.main(null);"
   ]
  },
  {
   "cell_type": "markdown",
   "metadata": {},
   "source": [
    "mutating data: the following method parses an input as a double"
   ]
  },
  {
   "cell_type": "code",
   "execution_count": null,
   "metadata": {},
   "outputs": [],
   "source": [
    "double w = sc.nextDouble();"
   ]
  }
 ],
 "metadata": {
  "kernelspec": {
   "display_name": "Java",
   "language": "java",
   "name": "java"
  },
  "language_info": {
   "name": "java",
   "version": "3.8.10"
  },
  "orig_nbformat": 4,
  "vscode": {
   "interpreter": {
    "hash": "916dbcbb3f70747c44a77c7bcd40155683ae19c65e1c03b4aa3499c5328201f1"
   }
  }
 },
 "nbformat": 4,
 "nbformat_minor": 2
}
