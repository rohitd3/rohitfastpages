{
 "cells": [
  {
   "attachments": {},
   "cell_type": "markdown",
   "metadata": {},
   "source": [
    "# 52 CB MC Tri 2 Corrections + Reflection\n",
    "\n",
    "- toc: true \n",
    "- badges: true\n",
    "- comments: true\n",
    "- categories: [cb]"
   ]
  },
  {
   "attachments": {},
   "cell_type": "markdown",
   "metadata": {},
   "source": [
    "## Total score: 44/52"
   ]
  },
  {
   "attachments": {},
   "cell_type": "markdown",
   "metadata": {},
   "source": [
    "## Q14 count 2D array columns\n",
    "\n",
    "![image](https://user-images.githubusercontent.com/44128572/215694855-53418c14-68ca-4dcf-ab38-54b63b6f68fe.png)\n",
    "\n",
    "Answer B is incorrect. The enhanced for loop in line 8 is intended to traverse the rows of the two-dimensional array arr. Each row o f arr is a one-dimensional array of int values, int[] row. Answer C is correct. Two-dimensional arrays are stored as arrays of one-dimensional arrays. Line 8 is intended to assign to row, a one-dimensional array of int values, a single row of the two-dimensional array arr. The original version of line 8 attempts to assign a row of col, but col is not a two-dimensional array."
   ]
  },
  {
   "attachments": {},
   "cell_type": "markdown",
   "metadata": {},
   "source": [
    "## Q16 count words in ArrayList wordList\n",
    "\n",
    "![image](https://user-images.githubusercontent.com/44128572/215694605-f2759e8c-b173-4eb7-b0e6-51b65d8cab1c.png)\n",
    "\n",
    "Answer B is incorrect. This result would be printed if the if statement was changed to if (word.indexOf(\"a\") < 0). Answer D is correct. The code segment uses an enhanced for loop to traverse wordList. The value of count is incremented each time a word contains the character \"a\". There are four elements of wordList that contain an \"a\", so 4 is printed."
   ]
  },
  {
   "attachments": {},
   "cell_type": "markdown",
   "metadata": {},
   "source": [
    "## Q24 loop on string abcdef\n",
    "\n",
    "![image](https://user-images.githubusercontent.com/44128572/215694367-095c6a8a-a565-4d99-9cf3-c55538f59d2f.png)\n",
    "\n",
    "Iteration error. After writing out what the code results, it should be abbccddeef"
   ]
  },
  {
   "attachments": {},
   "cell_type": "markdown",
   "metadata": {},
   "source": [
    "## Q25 manipulate method and animals List\n",
    "\n",
    "![image](https://user-images.githubusercontent.com/44128572/215694020-6ab60f4b-e35a-4be6-8197-7469b72f69a3.png)\n",
    "\n",
    "Answer E is incorrect. List is an interface, which an ArrayList implements. Please note that List is no longer tested as part of the AP CSA exam and ArrayList will be used instead. This would be the result if when words that started with “b” were found, they were added to the end instead of inserted at index animals.size() – k such as if the statement in the for loop was animals.add(animals.remove(k));. Answer B is correct. List is an interface, which an ArrayList implements. Please note that List is no longer tested as part of the AP CSA exam and ArrayList will be used instead. The manipulate method contains a for loop with a loop control variable k that starts at the right most index of animals, decrements by 1 each time, until k is equal to 0. In the first iteration, when k is 5, if the element of animals at 5 (“baboon”) starts with a “b”, which it does, then this value is removed from the list and inserted at index 1. The list would then be {“bear”, “baboon”, “zebra”, “bass”, “cat”, “koala”}."
   ]
  },
  {
   "attachments": {},
   "cell_type": "markdown",
   "metadata": {},
   "source": [
    "## Q26 mystery method with String parameter and substring\n",
    "\n",
    "![image](https://user-images.githubusercontent.com/44128572/215693325-a05d0ee3-80e0-4865-a789-cef14c092105.png)\n",
    "\n",
    "Answer D is incorrect. The reverse of “nono” is “onon”, since these two strings are not equal, the method will return false. Answer E is correct. This algorithm assigns temp the letters of str in reverse by extracting each letter of str starting at the end and moving to the beginning. Each letter is appended to the end of temp. So, if str was “abc”, “c” would be appended followed by “b”, and then “a”, making temp equal to “cba”. This method will return true if str is equal to temp, which is a string with the letters of str in reverse. The string “noon” is the only string that is the same in reverse."
   ]
  },
  {
   "attachments": {},
   "cell_type": "markdown",
   "metadata": {},
   "source": [
    "## Q30 print from 2D array\n",
    "\n",
    "![image](https://user-images.githubusercontent.com/44128572/215693079-34209837-86b0-493f-8d47-2bcb19cc1ec4.png)\n",
    "\n",
    "After writing out the process for the given code I get the following result:\n",
    "\n",
    "15 14 13 12 11\n",
    "\n",
    "25 24 23 22\n",
    "\n",
    "35 34 33\n",
    "\n",
    "45 44"
   ]
  },
  {
   "attachments": {},
   "cell_type": "markdown",
   "metadata": {},
   "source": [
    "## Q37 processWords method\n",
    "\n",
    "![image](https://user-images.githubusercontent.com/44128572/215692860-24f682d5-3fff-4544-b7c3-866a100b9859.png)\n",
    "\n",
    "This was a silly mistake. The value 0 is always printed."
   ]
  },
  {
   "attachments": {},
   "cell_type": "markdown",
   "metadata": {},
   "source": [
    "## Q41 remove some ArrayList elements\n",
    "\n",
    "![image](https://user-images.githubusercontent.com/44128572/215692331-f568b4c2-4c88-49b4-a617-d707d2ed3128.png)\n",
    "\n",
    "Answer D is incorrect. The expression num % key == 0 is correctly used to identify values of num that are divisible by key. Answer E is correct. When the element at position i is removed from numList, subsequent elements are shifted left. After the removal, the element that used to be at position i + 1 is now at position i. Because the method increments i regardless of whether the element at position i was removed, the method does not always work as intended. For example, if two adjacent elements are both divisible by key, only the first element is removed. The method could be corrected by incrementing i only when the element at position i is not removed or by decrementing i when an element is removed."
   ]
  }
 ],
 "metadata": {
  "kernelspec": {
   "display_name": "Java",
   "language": "java",
   "name": "java"
  },
  "language_info": {
   "codemirror_mode": "java",
   "file_extension": ".jshell",
   "mimetype": "text/x-java-source",
   "name": "java",
   "pygments_lexer": "java",
   "version": "17.0.5+8-Ubuntu-2ubuntu120.04"
  },
  "orig_nbformat": 4
 },
 "nbformat": 4,
 "nbformat_minor": 2
}
