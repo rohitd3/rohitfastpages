{
 "cells": [
  {
   "cell_type": "markdown",
   "metadata": {},
   "source": [
    "# POJO\n",
    "\n",
    "- toc: false \n",
    "- comments: true\n",
    "- categories: [java]"
   ]
  },
  {
   "cell_type": "markdown",
   "metadata": {},
   "source": [
    "### POJO w/ Annotation"
   ]
  },
  {
   "cell_type": "code",
   "execution_count": null,
   "metadata": {},
   "outputs": [],
   "source": [
    "import lombok.AllArgsConstructor;\n",
    "import lombok.Data;\n",
    "import lombok.NoArgsConstructor;\n",
    "\n",
    "// generating getters and setters using lombok annotations\n",
    "\n",
    "import javax.persistence.*;\n",
    "\n",
    "@Data  // simplify writing code\n",
    "@NoArgsConstructor\n",
    "@AllArgsConstructor\n",
    "@Entity // Annotation to simplify creating an entity, which is a lightweight persistence domain object. Typically, an entity represents a table in a relational database, and each entity instance corresponds to a row in that table.\n",
    "public class CarBrands {\n",
    "    @Id\n",
    "    @GeneratedValue(strategy = GenerationType.AUTO)\n",
    "    private Lo ng id;  // Unique identifier\n",
    "\n",
    "    @Column(unique=true)\n",
    "    private String brand;  // The Joke\n",
    "\n",
    "    private int like;  // stores joke likes\n",
    "    private int dislike;  // stores joke jeers\n",
    "}"
   ]
  },
  {
   "cell_type": "markdown",
   "metadata": {},
   "source": [
    "### POJO w/o Annotation"
   ]
  },
  {
   "cell_type": "code",
   "execution_count": null,
   "metadata": {},
   "outputs": [],
   "source": [
    "import javax.persistence.*;\n",
    "\n",
    "\n",
    "// without lombok we have more boilerplate code\n",
    "@Entity // Annotation to simplify creating an entity, which is a lightweight persistence domain object. Typically, an entity represents a table in a relational database, and each entity instance corresponds to a row in that table.\n",
    "public class CarBrands {\n",
    "\n",
    "    public CarBrands() {\n",
    "        this.id = null;\n",
    "        this.brand = \"\";\n",
    "        this.like = 0;\n",
    "        this.dislike = 0;\n",
    "    }\n",
    "\n",
    "    public CarBrands(Long ID, String Brand, int Like, int Dislike) {\n",
    "        this.id = null;\n",
    "        this.brand = Brand;\n",
    "        this.like = Like;\n",
    "        this.dislike = Dislike;\n",
    "    }\n",
    "\n",
    "    @Id\n",
    "    @GeneratedValue(strategy = GenerationType.AUTO)\n",
    "    private Long id;  // Unique identifier\n",
    "\n",
    "    @Column(unique=true)\n",
    "    private String brand;  // The Joke\n",
    "\n",
    "    private int like;  // Store joke likes\n",
    "    private int dislike;  // Store joke jeers\n",
    "\n",
    "    // Only have a getter for ID\n",
    "    // Don't need to set since it auto generates\n",
    "    public Long getID() {\n",
    "        return this.id;\n",
    "    }\n",
    "\n",
    "    public String getBrand() {\n",
    "        return this.brand;\n",
    "    }\n",
    "\n",
    "    public void setBrand(String Brand) {\n",
    "        this.brand = Brand;\n",
    "    } \n",
    "\n",
    "    public int getLike() {\n",
    "        return this.like;\n",
    "    }\n",
    "\n",
    "    public void setLike(int Like) {\n",
    "        this.like = Like;\n",
    "    }\n",
    "\n",
    "    public int getDislike() {\n",
    "        return this.dislike;\n",
    "    }\n",
    "\n",
    "    public void setDislike(int Dislike) {\n",
    "        this.dislike = Dislike;\n",
    "    }\n",
    "}"
   ]
  }
 ],
 "metadata": {
  "kernelspec": {
   "display_name": "Java",
   "language": "java",
   "name": "java"
  },
  "language_info": {
   "codemirror_mode": "java",
   "file_extension": ".jshell",
   "mimetype": "text/x-java-source",
   "name": "java",
   "pygments_lexer": "java",
   "version": "11.0.16+8-post-Ubuntu-0ubuntu120.04"
  },
  "orig_nbformat": 4,
  "vscode": {
   "interpreter": {
    "hash": "916dbcbb3f70747c44a77c7bcd40155683ae19c65e1c03b4aa3499c5328201f1"
   }
  }
 },
 "nbformat": 4,
 "nbformat_minor": 2
}
