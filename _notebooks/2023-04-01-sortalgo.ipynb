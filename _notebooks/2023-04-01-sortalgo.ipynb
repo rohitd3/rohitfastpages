{
 "cells": [
  {
   "attachments": {},
   "cell_type": "markdown",
   "metadata": {},
   "source": [
    "# Sorting Algorithim\n",
    "\n",
    "- toc: true \n",
    "- comments: true\n",
    "- categories: [java]"
   ]
  },
  {
   "cell_type": "code",
   "execution_count": 20,
   "metadata": {
    "vscode": {
     "languageId": "java"
    }
   },
   "outputs": [
    {
     "name": "stdout",
     "output_type": "stream",
     "text": [
      "~BUBBLE Sort Time: 7232708 nanoseconds\n",
      "*SELECTION Sort Time: 4249917 nanoseconds\n",
      "~BUBBLE Sort Time: 7242750 nanoseconds\n",
      "*SELECTION Sort Time: 4132833 nanoseconds\n",
      "~BUBBLE Sort Time: 7231667 nanoseconds\n",
      "*SELECTION Sort Time: 4168041 nanoseconds\n",
      "~BUBBLE Sort Time: 7237292 nanoseconds\n",
      "*SELECTION Sort Time: 4145250 nanoseconds\n",
      "~BUBBLE Sort Time: 7231292 nanoseconds\n",
      "*SELECTION Sort Time: 4202541 nanoseconds\n",
      "~BUBBLE Sort Time: 7234542 nanoseconds\n",
      "*SELECTION Sort Time: 4236292 nanoseconds\n",
      "~BUBBLE Sort Time: 7380041 nanoseconds\n",
      "*SELECTION Sort Time: 4475375 nanoseconds\n",
      "~BUBBLE Sort Time: 7291334 nanoseconds\n",
      "*SELECTION Sort Time: 3683541 nanoseconds\n",
      "~BUBBLE Sort Time: 7258833 nanoseconds\n",
      "*SELECTION Sort Time: 3760417 nanoseconds\n",
      "~BUBBLE Sort Time: 7245667 nanoseconds\n",
      "*SELECTION Sort Time: 3686625 nanoseconds\n",
      "~BUBBLE Sort Time: 7401250 nanoseconds\n",
      "*SELECTION Sort Time: 3688000 nanoseconds\n",
      "~BUBBLE Sort Time: 7351125 nanoseconds\n",
      "*SELECTION Sort Time: 3681500 nanoseconds\n",
      "!!BUBBLE Sort average time: 7278208 nanoseconds\n",
      "@@SELECTION sort average time : 4009194 nanoseconds\n"
     ]
    }
   ],
   "source": [
    "public class FavoriteSorts {\n",
    "\n",
    "    // bubble sort with input array\n",
    "    public static void bubbleSort(int[] arr) {\n",
    "        for (int i = 0; i < arr.length; i++) {\n",
    "            // iterate through the array to compare each element with its adjacent element\n",
    "            for (int j = 0; j < arr.length - 1; j++) {\n",
    "                // if the current element is greater than the adjacent element, swap them\n",
    "                if (arr[j] > arr[j + 1]) {\n",
    "                    int temp = arr[j];\n",
    "                    arr[j] = arr[j + 1];\n",
    "                    arr[j + 1] = temp;\n",
    "                }\n",
    "            }\n",
    "        }\n",
    "    }\n",
    "\n",
    "    // selection sort with input array\n",
    "    public static void selectionSort(int[] arr) {\n",
    "        for (int i = 0; i < arr.length; i++) {\n",
    "            // assume the current element is the smallest\n",
    "            int min = i;\n",
    "            // iterate through the array to find the actual smallest element\n",
    "            for (int j = i + 1; j < arr.length; j++) {\n",
    "                // if the current element is smaller than the assumed smallest element, update the index of the smallest element\n",
    "                if (arr[j] < arr[min]) {\n",
    "                    min = j;\n",
    "                }\n",
    "            }\n",
    "            // swap the current element with the smallest element\n",
    "            int temp = arr[i];\n",
    "            arr[i] = arr[min];\n",
    "            arr[min] = temp;\n",
    "        }\n",
    "    }\n",
    "\n",
    "    // array of size 5000\n",
    "\n",
    "    public static int[] randomArray() {\n",
    "        int[] array = new int[5000];\n",
    "        for (int i = 0; i < array.length; i++) {\n",
    "            array[i] = (int) (Math.random() * Math.random());\n",
    "        }\n",
    "        return array;\n",
    "    }\n",
    "\n",
    "\n",
    "    public static void main(String[] args) {\n",
    "        int[] avgTimes = new int[2];\n",
    "        for (int i = 0; i < 12; i++) {\n",
    "            int[] arr = randomArray();\n",
    "    \n",
    "            long startTime = System.nanoTime();\n",
    "            bubbleSort(arr);\n",
    "            long endTime = System.nanoTime();\n",
    "            long time = endTime - startTime;\n",
    "            avgTimes[0] += time;\n",
    "            System.out.println(\"~BUBBLE Sort Time: \" + time + \" nanoseconds\");\n",
    "    \n",
    "            arr = randomArray();\n",
    "            startTime = System.nanoTime();\n",
    "            selectionSort(arr);\n",
    "            endTime = System.nanoTime();\n",
    "            time = endTime - startTime;\n",
    "            avgTimes[1] += time;\n",
    "            System.out.println(\"*SELECTION Sort Time: \" + time + \" nanoseconds\");\n",
    "    \n",
    "        }\n",
    "        System.out.println(\"!!BUBBLE Sort average time: \" + avgTimes[0] / 12 + \" nanoseconds\");\n",
    "        System.out.println(\"@@SELECTION sort average time : \" + avgTimes[1] / 12 + \" nanoseconds\");\n",
    "        \n",
    "    } \n",
    "}\n",
    "\n",
    "FavoriteSorts.main(null);"
   ]
  }
 ],
 "metadata": {
  "kernelspec": {
   "display_name": "Java",
   "language": "java",
   "name": "java"
  },
  "language_info": {
   "codemirror_mode": "java",
   "file_extension": ".jshell",
   "mimetype": "text/x-java-source",
   "name": "Java",
   "pygments_lexer": "java",
   "version": "19.0.2+7-44"
  },
  "orig_nbformat": 4,
  "vscode": {
   "interpreter": {
    "hash": "aee8b7b246df8f9039afb4144a1f6fd8d2ca17a180786b69acc140d282b71a49"
   }
  }
 },
 "nbformat": 4,
 "nbformat_minor": 2
}
