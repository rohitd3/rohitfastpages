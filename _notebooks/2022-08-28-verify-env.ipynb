{
 "cells": [
  {
   "cell_type": "markdown",
   "id": "95d0e848",
   "metadata": {},
   "source": [
    "# verify environment in bash\n",
    "> bash commands to check environment  😎😎\n",
    "\n",
    "- toc: false \n",
    "- badges: true\n",
    "- comments: true\n",
    "- categories: [bash]\n",
    "- image: images/cowsaybash.png\n",
    "\n",
    "The following commands will verify if the proper packages are installed and up to date."
   ]
  },
  {
   "cell_type": "code",
   "execution_count": 2,
   "id": "1672732c",
   "metadata": {
    "scrolled": true
   },
   "outputs": [
    {
     "name": "stdout",
     "output_type": "stream",
     "text": [
      "Available kernels:\n",
      "  bash          /home/rohitde/.local/share/jupyter/kernels/bash\n",
      "  java          /home/rohitde/.local/share/jupyter/kernels/java\n",
      "  javascript    /home/rohitde/.local/share/jupyter/kernels/javascript\n",
      "  python3       /home/rohitde/.local/share/jupyter/kernels/python3\n"
     ]
    }
   ],
   "source": [
    "jupyter kernelspec list"
   ]
  },
  {
   "cell_type": "code",
   "execution_count": 3,
   "id": "4efcc228",
   "metadata": {},
   "outputs": [
    {
     "name": "stdout",
     "output_type": "stream",
     "text": [
      "Python 3.9.12\n",
      "Python 2.7.18\n",
      "openjdk 11.0.16 2022-07-19\n",
      "OpenJDK Runtime Environment (build 11.0.16+8-post-Ubuntu-0ubuntu120.04)\n",
      "OpenJDK 64-Bit Server VM (build 11.0.16+8-post-Ubuntu-0ubuntu120.04, mixed mode, sharing)\n",
      "conda 4.14.0\n"
     ]
    }
   ],
   "source": [
    "python --version\n",
    "python2 --version\n",
    "java --version\n",
    "conda --version"
   ]
  }
 ],
 "metadata": {
  "kernelspec": {
   "display_name": "Python 3.8.10 64-bit",
   "language": "python",
   "name": "python3"
  },
  "language_info": {
   "codemirror_mode": "shell",
   "file_extension": ".sh",
   "mimetype": "text/x-sh",
   "name": "python",
   "version": "3.8.10"
  },
  "vscode": {
   "interpreter": {
    "hash": "916dbcbb3f70747c44a77c7bcd40155683ae19c65e1c03b4aa3499c5328201f1"
   }
  }
 },
 "nbformat": 4,
 "nbformat_minor": 5
}
