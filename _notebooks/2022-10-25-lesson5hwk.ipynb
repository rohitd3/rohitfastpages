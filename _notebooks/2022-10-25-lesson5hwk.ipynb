{
 "cells": [
  {
   "cell_type": "markdown",
   "metadata": {},
   "source": [
    "# Lesson 5 Homework - Writing Classes\n",
    "> FRQ homework assignment\n",
    "\n",
    "- toc: true \n",
    "- comments: false\n",
    "- categories: [java]"
   ]
  },
  {
   "cell_type": "markdown",
   "metadata": {},
   "source": [
    "## 2019 FRQ Q2 Rohit and Kurtis"
   ]
  },
  {
   "cell_type": "code",
   "execution_count": 1,
   "metadata": {},
   "outputs": [
    {
     "name": "stdout",
     "output_type": "stream",
     "text": [
      "0\n",
      "0.0\n",
      "9000.0\n",
      "1\n"
     ]
    }
   ],
   "source": [
    "public class StepTracker {\n",
    "    private int lowerBound;\n",
    "    private int steps;\n",
    "    private int totalDays;\n",
    "    private int activeDays;\n",
    "\n",
    "    public StepTracker(int minSteps) {\n",
    "        lowerBound = minSteps;\n",
    "        steps = 0;\n",
    "        totalDays = 0;\n",
    "        activeDays = 0;\n",
    "    }\n",
    "\n",
    "    public void addDailySteps(int newSteps) {\n",
    "        steps += newSteps;\n",
    "        totalDays += 1;\n",
    "        if (newSteps >= lowerBound) {\n",
    "            activeDays += 1;\n",
    "        }\n",
    "    }\n",
    "\n",
    "    public int activeDays(){\n",
    "        return activeDays;\n",
    "    }\n",
    "\n",
    "    public double averageSteps() {\n",
    "        if (totalDays == 0) {\n",
    "            return (double) totalDays;\n",
    "        }\n",
    "        else {\n",
    "            return (double) steps / totalDays;\n",
    "        }\n",
    "    }\n",
    "\n",
    "    public static void main(String[] args){\n",
    "\n",
    "        StepTracker tr = new StepTracker(10000);\n",
    "        System.out.println(tr.activeDays());\n",
    "        System.out.println(tr.averageSteps());\n",
    "        tr.addDailySteps(9000);\n",
    "        System.out.println(tr.averageSteps());\n",
    "        tr.addDailySteps(23000);\n",
    "        System.out.println(tr.activeDays());\n",
    "    }\n",
    "}\n",
    "StepTracker.main(null);"
   ]
  },
  {
   "cell_type": "markdown",
   "metadata": {},
   "source": [
    "### Notes\n",
    "- Classes are blueprints to create objects and define attributes\n",
    "- Instances: attributes, constructors, methods, objects\n",
    "- Public classes: no restricted access - constructors\n",
    "- Private classes: restricted access - instance variables\n",
    "- Accessor method (getter): allows other objects to obtain values of instance variables or static variables\n",
    "- Non void methods return a single value\n"
   ]
  }
 ],
 "metadata": {
  "kernelspec": {
   "display_name": "Java",
   "language": "java",
   "name": "java"
  },
  "language_info": {
   "codemirror_mode": "java",
   "file_extension": ".jshell",
   "mimetype": "text/x-java-source",
   "name": "java",
   "pygments_lexer": "java",
   "version": "11.0.16+8-post-Ubuntu-0ubuntu120.04"
  },
  "orig_nbformat": 4
 },
 "nbformat": 4,
 "nbformat_minor": 2
}
