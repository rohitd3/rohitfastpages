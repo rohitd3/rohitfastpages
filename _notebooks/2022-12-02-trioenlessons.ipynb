{
 "cells": [
  {
   "cell_type": "markdown",
   "metadata": {},
   "source": [
    "# Unit 1-5 Lesson Notes\n",
    "> Lesson Score + Notes/Tangibles\n",
    "\n",
    "- toc: true \n",
    "- comments: false\n",
    "- categories: [entry]"
   ]
  },
  {
   "cell_type": "markdown",
   "metadata": {},
   "source": [
    "Unit 1\n",
    "\n",
    "[Work done](https://rohitd3.github.io/rohitfastpages/java/2022/10/24/lesson1hwk.html)\n",
    "\n",
    "\n",
    " - wrapper classes for all primitive data types like char, int, double, boolean where you can call in static methods that return values\n",
    " - primitive wrapper objects or string objects are immutable so the methods can't change\n",
    "   - Boolean, char, int, float, double are all primitive data types\n",
    "   - String, Array, etc. are non-primitive data types\n",
    " - String class are unable to be changed\n",
    " - declare a variable that can be accessible and/or changed\n",
    "   - (=) is used to initialize variables or change its associated value\n",
    "   - Operators are + - * / %\n",
    "   - Compound operators are +=, -=, *=, /=, %=\n",
    "   - Increment/decrement ++ or --\n"
   ]
  },
  {
   "cell_type": "markdown",
   "metadata": {},
   "source": [
    "Unit 2\n",
    "\n",
    "[Work done](https://rohitd3.github.io/rohitfastpages/java/2022/10/25/lesson2hwk.html)\n",
    "\n",
    " - classes are blueprints for creating objects\n",
    " - objects are instances within a class\n",
    "   - attributes are inherited by objects\n",
    "   - Non static methods are dot operators\n",
    " - methods are certain set of code that runs a specific task\n",
    " - overloaded methods give multiple methods the same name with different signatures\n",
    " - void methods don't return values\n",
    " - Non void methods return a value of the same type defined in the method signature\n",
    " - static methods are a part of a class instead of an instance of a class which is why it's in a bracket in the class\n"
   ]
  },
  {
   "cell_type": "markdown",
   "metadata": {},
   "source": [
    "Unit 3\n",
    "\n",
    "[Work done](https://rohitd3.github.io/rohitfastpages/java/2022/10/25/lesson3hwk.html)\n",
    "\n",
    " - boolean expression is true or false\n",
    " - If-else statements sets up alternate code if the first expression turns false\n",
    " - Else-if statements allow for more conditions to be defined\n",
    " - De Morgan's law: logical operators && (and) ll(or) and !(not)"
   ]
  },
  {
   "cell_type": "markdown",
   "metadata": {},
   "source": [
    "Unit 4\n",
    "\n",
    "[Work done](https://rohitd3.github.io/rohitfastpages/java/2022/10/27/lesson4hwk.html)\n",
    "\n",
    " - While/for loops: repeats lines of code until a specific condition comes out false; can iterate over multiple elements\n",
    " - For loops are most tested\n",
    " - Strings: array chairs\n"
   ]
  },
  {
   "cell_type": "markdown",
   "metadata": {},
   "source": [
    "Unit 5\n",
    "\n",
    "[Work done](https://rohitd3.github.io/rohitfastpages/java/2022/10/28/lesson5hwk.html)\n",
    "\n",
    " - Public classes: no restricted access - constructors\n",
    " - Private classes: restricted access - instance variables\n",
    " - Accessor method (getter): allows other objects to obtain values of instance variables or static variables\n",
    " - Non void methods return a single value\n",
    " - toString() method is a overridden method that provides description of a specific object\n",
    " - Mutator Method (setter): void method that changes value of instance variables/static variable\n"
   ]
  },
  {
   "cell_type": "markdown",
   "metadata": {},
   "source": [
    "Additional Vocab\n",
    "\n",
    "Primitives:\n",
    "- Doubles - 64 bits\n",
    "- Integers - 32 bits - use int when declaring, not Integer. Integer is non-primitive\n",
    "- Booleans - 1 bit\n",
    "- String is a non-primitive data type\n",
    "\n",
    "\n",
    "\n",
    "\n",
    "Non-primitive or Wrapper classes data types use methods to perform actions\n",
    "\n",
    "String Class\n",
    "\n",
    "Strings are immutable - unable to be changed\n",
    "\n",
    "Methods that act upon string objects do not change the state of the defined string object.\n",
    "\n",
    "Constructors - initialize the attributes for an object\n",
    "- Constructors start with public, and have the same name as the class. In this case, these constructors are for the class Person\n",
    "\n",
    "Abstract class: is a restricted class that cannot be used to create objects (to access it, it must be inherited from another class).\n",
    "\n",
    "Abstract method: can only be used in an abstract class, and it does not have a body. The body is provided by the subclass (inherited from)\n",
    "\n",
    "Inheritance in Java is the method to create a hierarchy between classes by inheriting from other classes"
   ]
  },
  {
   "cell_type": "markdown",
   "metadata": {},
   "source": [
    "Casting\n",
    "- change one data type to another. Two casting operators are\n",
    "- int\n",
    "- double\n",
    "\n",
    "- Division - Seen above, casting can round the division for y/x so that it returns an integer, this is to allow for certain code beyond that that would only be able to take integer values for a specific reason.\n",
    "- Rounding/Truncating - Seen in both examples above, casting is great for rounding a value to an integer or for another reason in order to simplify code."
   ]
  },
  {
   "cell_type": "code",
   "execution_count": 2,
   "metadata": {},
   "outputs": [
    {
     "name": "stdout",
     "output_type": "stream",
     "text": [
      "1\n",
      "29\n"
     ]
    }
   ],
   "source": [
    "double x = 4.5;\n",
    "double y = 6.52;\n",
    "\n",
    "int z = (int) (y/x);\n",
    "int aa = (int) (x*y);\n",
    "\n",
    "System.out.println(z);\n",
    "System.out.println(aa)"
   ]
  },
  {
   "cell_type": "markdown",
   "metadata": {},
   "source": [
    "Wrapper Classes - Classes that are able to make primitive types into objects to be used in things such as ArrayLists that would not allow primitives. See below for an example."
   ]
  },
  {
   "cell_type": "code",
   "execution_count": 3,
   "metadata": {},
   "outputs": [
    {
     "name": "stdout",
     "output_type": "stream",
     "text": [
      "Hello World 333\n"
     ]
    }
   ],
   "source": [
    "// Wrapper classes example\n",
    "ArrayList<Integer> ton = new ArrayList<Integer>();\n",
    "// ArrayList<int> would not work for this\n",
    "\n",
    "// Concatenation example\n",
    "String a = \"Hello\";\n",
    "String b = \"World\";\n",
    "int c = 333;\n",
    "String d = a + \" \" + b + \" \" + c;\n",
    "\n",
    "System.out.println(d);"
   ]
  },
  {
   "cell_type": "markdown",
   "metadata": {},
   "source": [
    "\n",
    "\n",
    "Concatenation - Concatenation involves combining two or more strings together. This is done by using the + operator. Anything that's not a string is attempted to be converted to a string in order to be concatenated on the end, like the int in this example.\n",
    "\n",
    "Static/Class Variables - Static variables are variables that are shared across all instances of a class. This means that no matter how many objects you instantiate of the same class, modifying a static variable or method will update it for all instances. This is useful for things like a counter that you want to increment for every instance of a class.\n",
    "\n",
    "Inheritance/Extends - Using an extends method allows it to inherit attributes and methods from the class it is extending. This is useful when you want to modify or create a subclass of a class without having to rewrite all of the code for the class you are extending.\n",
    "\n"
   ]
  },
  {
   "cell_type": "code",
   "execution_count": 8,
   "metadata": {},
   "outputs": [],
   "source": [
    "public int scoreGuess(String guess)\n",
    "{\n",
    "    int count = 0;\n",
    "    for (int i = 0; i <= secret.length() - guess.length(); i++)\n",
    "    {\n",
    "        if (secret.substring(i, i + guess.length()).equals(guess))\n",
    "        {\n",
    "            count++;\n",
    "        }\n",
    "    }\n",
    "    return count * guess.length();\n",
    "}"
   ]
  },
  {
   "cell_type": "code",
   "execution_count": null,
   "metadata": {},
   "outputs": [],
   "source": [
    "public String findBetterGuess(String guess1, String guess2)\n",
    "{\n",
    "    if (scoreGuess(guess1) > scoreGuess(guess2))\n",
    "    {\n",
    "        return guess1;\n",
    "    }\n",
    "    if (scoreGuess(guess2) > scoreGuess(guess1))\n",
    "    {\n",
    "        return guess2;\n",
    "    }\n",
    "    if (guess1.compareTo(guess2) > 0)\n",
    "    {\n",
    "        return guess1;\n",
    "    }\n",
    "    return guess2;\n",
    "}"
   ]
  },
  {
   "cell_type": "markdown",
   "metadata": {},
   "source": [
    "Polymorphism - Polymorphism is the ability to have multiple methods with the same name but different parameters. This is useful when you want to have multiple methods that do the same thing but with different parameters. This is also useful when you want to have a method that can take multiple types of parameters\n",
    "\n",
    "Overloading is when you have multiple methods with the same name but different parameters.\n",
    "\n",
    "Overriding is when you have a method with the same name and parameters as a method in a superclass but you want to modify the method in the subclass.\n",
    "\n",
    "Late binding is when you have allow the compiler to determine which method to use at runtime instead of compile time. Abstract Class - Objects cannot be created from an abstract class, they can only be extended. This is useful when you want to create a class that can be extended but not instantiated"
   ]
  },
  {
   "cell_type": "code",
   "execution_count": 7,
   "metadata": {},
   "outputs": [
    {
     "name": "stdout",
     "output_type": "stream",
     "text": [
      "kurtis walked 9 miles\n",
      "nathan walked 8 miles\n"
     ]
    }
   ],
   "source": [
    "abstract class People {\n",
    "    public void walked() {\n",
    "        System.out.println(\"Rohit walked 10 miles\");\n",
    "    }\n",
    "}\n",
    "\n",
    "class KURTIS extends People {\n",
    "    public void walked() {\n",
    "        System.out.println(\"kurtis walked 9 miles\");\n",
    "    }\n",
    "}\n",
    "\n",
    "class NATHAN extends People {\n",
    "    public void walked() {\n",
    "        System.out.println(\"nathan walked 8 miles\");\n",
    "    }\n",
    "}\n",
    "\n",
    "// Instantiating the People class would throw an error as it is abstract\n",
    "KURTIS kur = new KURTIS();\n",
    "NATHAN nat = new NATHAN();\n",
    "kur.walked();\n",
    "nat.walked();"
   ]
  },
  {
   "cell_type": "markdown",
   "metadata": {},
   "source": [
    "Subclass Constructor / Super - Extending a class and then constructing the new extends class will call the constructor of the superclass. This is useful when you want to have a constructor that will call the constructor of the superclass.\n",
    "\n",
    "Referencing Superclass - Using the super keyword allows you to reference the superclass of the current class. This is useful when you want to reference the superclass of the current class.\n",
    "\n"
   ]
  },
  {
   "cell_type": "markdown",
   "metadata": {},
   "source": [
    "Standard Methods - ToString is a standard method that is used to convert an object into a string. Equals is useful for comparing two objects to see if they are equal. HashCode is useful for getting a unique hash code for an object.\n",
    "\n",
    "Big O Notation - Implementing Big O notation is useful for determining the efficiency of an algorithm. Making algorithms more efficient is useful for making programs compile and run faster and likely reduce the load of it, which could be especially good for websites where users may be runnning the same function through an api many times.\n",
    "\n"
   ]
  }
 ],
 "metadata": {
  "kernelspec": {
   "display_name": "Java",
   "language": "java",
   "name": "java"
  },
  "language_info": {
   "codemirror_mode": "java",
   "file_extension": ".jshell",
   "mimetype": "text/x-java-source",
   "name": "java",
   "pygments_lexer": "java",
   "version": "17.0.5+8-Ubuntu-2ubuntu120.04"
  },
  "orig_nbformat": 4,
  "vscode": {
   "interpreter": {
    "hash": "916dbcbb3f70747c44a77c7bcd40155683ae19c65e1c03b4aa3499c5328201f1"
   }
  }
 },
 "nbformat": 4,
 "nbformat_minor": 2
}
